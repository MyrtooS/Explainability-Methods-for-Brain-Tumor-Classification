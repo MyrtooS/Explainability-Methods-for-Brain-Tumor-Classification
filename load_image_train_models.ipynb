{
  "nbformat": 4,
  "nbformat_minor": 0,
  "metadata": {
    "colab": {
      "provenance": [],
      "collapsed_sections": [],
      "include_colab_link": true
    },
    "kernelspec": {
      "name": "python3",
      "display_name": "Python 3"
    },
    "language_info": {
      "name": "python"
    },
    "accelerator": "GPU",
    "gpuClass": "standard"
  },
  "cells": [
    {
      "cell_type": "markdown",
      "metadata": {
        "id": "view-in-github",
        "colab_type": "text"
      },
      "source": [
        "<a href=\"https://colab.research.google.com/github/MyrtooS/Explainability-Methods-for-Brain-Tumor-Classification/blob/main/load_image_train_models.ipynb\" target=\"_parent\"><img src=\"https://colab.research.google.com/assets/colab-badge.svg\" alt=\"Open In Colab\"/></a>"
      ]
    },
    {
      "cell_type": "code",
      "source": [
        "from google.colab import drive\n",
        "drive.mount('/content/drive')\n",
        "!ls '/content/drive'\n",
        "folder='/content/drive/My Drive/MRI Classification/mri_kaggle'"
      ],
      "metadata": {
        "colab": {
          "base_uri": "https://localhost:8080/"
        },
        "id": "7g_XWSP5gk2c",
        "outputId": "2405da57-c7f2-4846-ae22-e039d3811b25"
      },
      "execution_count": null,
      "outputs": [
        {
          "output_type": "stream",
          "name": "stdout",
          "text": [
            "Mounted at /content/drive\n",
            "MyDrive  Shareddrives\n"
          ]
        }
      ]
    },
    {
      "cell_type": "code",
      "source": [
        "import cv2\n",
        "import os\n",
        "import glob\n",
        "from PIL import Image\n",
        "import os, os.path\n",
        "import numpy as np\n",
        "import tensorflow as tf\n",
        "from tensorflow.keras import layers\n",
        "import tensorflow.keras.datasets \n",
        "import matplotlib.pyplot as plt\n",
        "from tensorflow.keras.models import load_model\n",
        "from sklearn.datasets import load_files   \n",
        "from keras.utils import np_utils\n",
        "from tensorflow.keras.models import Sequential,Model,load_model\n",
        "from tensorflow.keras.layers import Dense, Dropout, Flatten, Conv2D, MaxPool2D,GlobalAveragePooling2D\n",
        "from sklearn.metrics import confusion_matrix\n",
        "from imblearn.over_sampling import SMOTE\n",
        "from sklearn.model_selection import train_test_split\n",
        "from sklearn.metrics import confusion_matrix\n",
        "from sklearn.metrics import accuracy_score\n",
        "from sklearn.metrics import precision_score\n",
        "from sklearn.metrics import recall_score\n",
        "from sklearn.metrics import f1_score\n",
        "from tensorflow.keras.applications.vgg16 import VGG16\n",
        "from tensorflow.keras.applications import EfficientNetB0"
      ],
      "metadata": {
        "id": "yFzq85G2gkzM"
      },
      "execution_count": null,
      "outputs": []
    },
    {
      "cell_type": "markdown",
      "source": [
        "1η Προσέγγιση - Κατηγοριοποίηση με 4 κλάσεις"
      ],
      "metadata": {
        "id": "k-wQbx5kgqZK"
      }
    },
    {
      "cell_type": "markdown",
      "source": [
        "Φόρτωση εικόνων"
      ],
      "metadata": {
        "id": "E0pEdTI0flMm"
      }
    },
    {
      "cell_type": "code",
      "source": [
        "list_of_files_train = []\n",
        "path_train = \"/content/drive/My Drive/MRI Classification/mri_kaggle/Training/\"\n",
        "for file in os.listdir(path_train): #reading all sub file directories\n",
        "    mri_path_train= path_train+str(file)+'/*.jpg'\n",
        "    list_of_files_train.append(mri_path_train)\n",
        "\n",
        "print(list_of_files_train)\n"
      ],
      "metadata": {
        "colab": {
          "base_uri": "https://localhost:8080/"
        },
        "id": "26ES1PZ5gkwX",
        "outputId": "c325975d-6423-4b62-883c-447b5e2dacb0"
      },
      "execution_count": null,
      "outputs": [
        {
          "output_type": "stream",
          "name": "stdout",
          "text": [
            "['/content/drive/My Drive/MRI Classification/mri_kaggle/Training/pituitary_tumor/*.jpg', '/content/drive/My Drive/MRI Classification/mri_kaggle/Training/glioma_tumor/*.jpg', '/content/drive/My Drive/MRI Classification/mri_kaggle/Training/meningioma_tumor/*.jpg', '/content/drive/My Drive/MRI Classification/mri_kaggle/Training/no_tumor/*.jpg']\n"
          ]
        }
      ]
    },
    {
      "cell_type": "code",
      "source": [
        "array_images_train = []\n",
        "array_labels_train = []\n",
        "    \n",
        "label_counter_train=0\n",
        "for i in list_of_files_train:\n",
        "  images_train = glob.glob(i)\n",
        "        \n",
        "  for image in images_train:\n",
        "    with open(image, 'rb') as r_image:\n",
        "           \n",
        "            \n",
        "      img = Image.open(image)\n",
        "      resized_image = img.resize((224,224))\n",
        "      resized_image=np.array(resized_image)\n",
        "                \n",
        "      array_images_train.append(resized_image)\n",
        "      array_labels_train.append(label_counter_train)  \n",
        "  \n",
        "  #the image labels will be 0,1,2,3:\n",
        "  #0 is for pituitary tumor, 1 is for glioma tumor, 2 is for meningioma tumor and 3 is for no tumor\n",
        "\n",
        "  label_counter_train = label_counter_train + 1 "
      ],
      "metadata": {
        "id": "uvk-wR6-gksB"
      },
      "execution_count": null,
      "outputs": []
    },
    {
      "cell_type": "code",
      "source": [
        "#converting list to array\n",
        "x_train = np.array(array_images_train)\n",
        "y_train = np.array(array_labels_train)\n",
        "\n",
        "y_train = tensorflow.keras.utils.to_categorical(y_train, 4)\n",
        "\n"
      ],
      "metadata": {
        "id": "TcnDFpftR0uT"
      },
      "execution_count": null,
      "outputs": []
    },
    {
      "cell_type": "code",
      "source": [
        "y_train.shape"
      ],
      "metadata": {
        "colab": {
          "base_uri": "https://localhost:8080/"
        },
        "id": "SJErF92kT0Cc",
        "outputId": "d2142c7d-3531-4b8c-b84e-e57c98d90b9a"
      },
      "execution_count": null,
      "outputs": [
        {
          "output_type": "execute_result",
          "data": {
            "text/plain": [
              "(4054, 4)"
            ]
          },
          "metadata": {},
          "execution_count": 13
        }
      ]
    },
    {
      "cell_type": "code",
      "source": [
        "y1_train = y_train.reshape(4054,-1)\n",
        "x1_train = x_train.reshape(4054,-1)"
      ],
      "metadata": {
        "id": "8FS3-68KR2Qi"
      },
      "execution_count": null,
      "outputs": []
    },
    {
      "cell_type": "code",
      "source": [
        "\n",
        "\n",
        "#oversampling the data because the 'no tumor' class did not have enough images\n",
        "sm = SMOTE(random_state=42)\n",
        "X_smote, y_smote = sm.fit_resample(x1_train, y1_train)\n",
        "x_train  = X_smote.reshape(4524,224,224,3)\n",
        "\n",
        "#spliting train and test sets\n",
        "X_train, X_test, Y_train, Y_test = train_test_split(x_train, y_smote, test_size=0.2, random_state=1, stratify = y_smote)"
      ],
      "metadata": {
        "id": "dfMdf33Wgkpp"
      },
      "execution_count": null,
      "outputs": []
    },
    {
      "cell_type": "markdown",
      "source": [
        "Τα 2 CNN μοντέλα θα ξεχωρίζονται με τα ονόματα gap και nogap κάτι το οποίο αναφέρεται στην ύπαρξη ή οχι GAP επιπέδου"
      ],
      "metadata": {
        "id": "WLcHkvWa7w8o"
      }
    },
    {
      "cell_type": "markdown",
      "source": [
        "1ο μοντέλο - CNN"
      ],
      "metadata": {
        "id": "7ZyTb4oCIkPJ"
      }
    },
    {
      "cell_type": "code",
      "execution_count": null,
      "metadata": {
        "id": "Av_O8FMIaR37"
      },
      "outputs": [],
      "source": [
        "gap_model = tensorflow.keras.Sequential() \n",
        "gap_model.add(layers.Input(shape=x_train[0].shape))\n",
        "gap_model.add(layers.Conv2D(3, (3,3), strides = (1,1), padding=\"same\", activation='relu'))\n",
        "gap_model.add(layers.Conv2D(64, (3,3), strides = (1,1), padding=\"same\", activation='relu'))\n",
        "gap_model.add(layers.BatchNormalization())\n",
        "gap_model.add(layers.MaxPooling2D(pool_size=(2, 2),strides=2))\n",
        "gap_model.add(layers.Dropout(0.2))\n",
        "\n",
        "gap_model.add(layers.Conv2D(128, (3,3), strides = (1,1), padding=\"same\", activation='relu'))\n",
        "gap_model.add(layers.Conv2D(128, (3,3), strides = (1,1), padding=\"same\", activation='relu'))\n",
        "gap_model.add(layers.Conv2D(128, (3,3), strides = (1,1), padding=\"same\", activation='relu'))\n",
        "gap_model.add(layers.BatchNormalization())\n",
        "gap_model.add(layers.MaxPooling2D(pool_size=(2, 2),strides=2))\n",
        "gap_model.add(layers.Dropout(0.2))\n",
        "\n",
        "gap_model.add(layers.Conv2D(256, (3,3), strides = (1,1), padding=\"same\", activation='relu'))\n",
        "gap_model.add(layers.Conv2D(256, (3,3), strides = (1,1), padding=\"same\", activation='relu'))\n",
        "gap_model.add(layers.Conv2D(256, (3,3), strides = (1,1), padding=\"same\", activation='relu'))\n",
        "gap_model.add(layers.BatchNormalization())\n",
        "gap_model.add(layers.MaxPooling2D(pool_size=(2, 2),strides=2))\n",
        "gap_model.add(layers.Dropout(0.2))\n",
        "\n",
        "gap_model.add(layers.Conv2D(512, (3,3), strides = (1,1), padding=\"same\", activation='relu'))\n",
        "gap_model.add(layers.Conv2D(512, (3,3), strides = (1,1), padding=\"same\", activation='relu'))\n",
        "gap_model.add(layers.Conv2D(512, (3,3), strides = (1,1), padding=\"same\", activation='relu'))\n",
        "gap_model.add(layers.Conv2D(512, (3,3), strides = (1,1), padding=\"same\", activation='relu'))\n",
        "gap_model.add(layers.BatchNormalization())\n",
        "gap_model.add(layers.MaxPooling2D(pool_size=(2, 2),strides=2))\n",
        "gap_model.add(layers.Dropout(0.2))\n",
        "\n",
        "gap_model.add(layers.AveragePooling2D())\n",
        "gap_model.add(layers.Flatten())\n",
        "gap_model.add(layers.Dense(4, activation='softmax'))"
      ]
    },
    {
      "cell_type": "code",
      "source": [
        "X_train_gap = X_train.astype('float32') / 255.0\n",
        "X_test_gap = X_test.astype('float32') / 255.0"
      ],
      "metadata": {
        "id": "q23hhn5fj5xR"
      },
      "execution_count": null,
      "outputs": []
    },
    {
      "cell_type": "code",
      "source": [
        "adam = tensorflow.keras.optimizers.Adam(learning_rate = 0.0001)\n",
        "gap_model.compile(optimizer=adam, loss='categorical_crossentropy', metrics=['accuracy'])\n",
        "gap_model.fit(X_train_gap, Y_train, batch_size=32, epochs=13)"
      ],
      "metadata": {
        "id": "a-sF4Rswj5PK",
        "colab": {
          "base_uri": "https://localhost:8080/"
        },
        "outputId": "d4318c07-6a9c-455b-eee1-7aa76e1d3931"
      },
      "execution_count": null,
      "outputs": [
        {
          "output_type": "stream",
          "name": "stdout",
          "text": [
            "Epoch 1/13\n",
            "114/114 [==============================] - 70s 449ms/step - loss: 1.0518 - accuracy: 0.6261\n",
            "Epoch 2/13\n",
            "114/114 [==============================] - 54s 471ms/step - loss: 0.8084 - accuracy: 0.6936\n",
            "Epoch 3/13\n",
            "114/114 [==============================] - 56s 493ms/step - loss: 0.6986 - accuracy: 0.7372\n",
            "Epoch 4/13\n",
            "114/114 [==============================] - 55s 485ms/step - loss: 0.6555 - accuracy: 0.7585\n",
            "Epoch 5/13\n",
            "114/114 [==============================] - 55s 486ms/step - loss: 0.5896 - accuracy: 0.7988\n",
            "Epoch 6/13\n",
            "114/114 [==============================] - 55s 486ms/step - loss: 0.4694 - accuracy: 0.8372\n",
            "Epoch 7/13\n",
            "114/114 [==============================] - 55s 485ms/step - loss: 0.4109 - accuracy: 0.8544\n",
            "Epoch 8/13\n",
            "114/114 [==============================] - 55s 485ms/step - loss: 0.3487 - accuracy: 0.8759\n",
            "Epoch 9/13\n",
            "114/114 [==============================] - 55s 486ms/step - loss: 0.3202 - accuracy: 0.8875\n",
            "Epoch 10/13\n",
            "114/114 [==============================] - 55s 485ms/step - loss: 0.2082 - accuracy: 0.9254\n",
            "Epoch 11/13\n",
            "114/114 [==============================] - 55s 485ms/step - loss: 0.1744 - accuracy: 0.9420\n",
            "Epoch 12/13\n",
            "114/114 [==============================] - 55s 486ms/step - loss: 0.1528 - accuracy: 0.9492\n",
            "Epoch 13/13\n",
            "114/114 [==============================] - 55s 484ms/step - loss: 0.1201 - accuracy: 0.9591\n"
          ]
        },
        {
          "output_type": "execute_result",
          "data": {
            "text/plain": [
              "<keras.callbacks.History at 0x7fd39002c110>"
            ]
          },
          "metadata": {},
          "execution_count": 8
        }
      ]
    },
    {
      "cell_type": "code",
      "source": [
        "gap_model.save('/content/drive/My Drive/MRI Classification/gap_4.h5')"
      ],
      "metadata": {
        "id": "PtASTEPNIvZ5"
      },
      "execution_count": null,
      "outputs": []
    },
    {
      "cell_type": "code",
      "source": [
        "rounded_predictions_gap = np.argmax(gap_model.predict(X_test_gap), axis=-1)\n",
        "rounded_predictions_gap[1]\n",
        "rounded_labels_gap=np.argmax(Y_test, axis=1)\n",
        "\n",
        "cm = confusion_matrix(rounded_predictions_gap, rounded_predictions_gap)\n",
        "print(cm)"
      ],
      "metadata": {
        "id": "iuSo3IX7IvZ7"
      },
      "execution_count": null,
      "outputs": []
    },
    {
      "cell_type": "code",
      "source": [
        "accuracy = accuracy_score(rounded_predictions_gap, rounded_predictions_gap)\n",
        "print('Accuracy: ' ,accuracy)\n",
        "precision = precision_score(rounded_predictions_gap, rounded_predictions_gap, average = None)\n",
        "print('Precision: ' , precision)\n",
        "recall = recall_score(rounded_predictions_gap, rounded_predictions_gap,average = None)\n",
        "print('Recall: ' ,recall)\n",
        "f1 = f1_score(rounded_predictions_gap, rounded_predictions_gap,average = None)\n",
        "print('F1 score: ',f1)"
      ],
      "metadata": {
        "id": "6tMAwmfeIvZ8"
      },
      "execution_count": null,
      "outputs": []
    },
    {
      "cell_type": "markdown",
      "source": [
        "2o μοντέλο - CNN με 1x1 Convolutions"
      ],
      "metadata": {
        "id": "0C-2KEgJur1j"
      }
    },
    {
      "cell_type": "code",
      "source": [
        "model_nogap = tensorflow.keras.Sequential() \n",
        "model_nogap.add(layers.Input(shape=x_train[0].shape))\n",
        "model_nogap.add(layers.Conv2D(3, (3,3), strides = (1,1), padding=\"same\", activation='relu'))\n",
        "model_nogap.add(layers.Conv2D(64, (3,3), strides = (1,1), padding=\"same\", activation='relu'))\n",
        "model_nogap.add(layers.Conv2D(64, (1,1), strides = (1,1), padding=\"same\", activation='relu'))\n",
        "model_nogap.add(layers.BatchNormalization())\n",
        "model_nogap.add(layers.MaxPooling2D(pool_size=(2, 2),strides=2))\n",
        "\n",
        "model_nogap.add(layers.Conv2D(128, (3,3), strides = (1,1), padding=\"same\", activation='relu'))\n",
        "model_nogap.add(layers.Conv2D(128, (3,3), strides = (1,1), padding=\"same\", activation='relu'))\n",
        "model_nogap.add(layers.Conv2D(64, (1,1), strides = (1,1), padding=\"same\", activation='relu'))\n",
        "model_nogap.add(layers.BatchNormalization())\n",
        "model_nogap.add(layers.MaxPooling2D(pool_size=(2, 2),strides=2))\n",
        "model_nogap.add(layers.Dropout(0.2))\n",
        "\n",
        "\n",
        "model_nogap.add(layers.Conv2D(256, (3,3), strides = (1,1), padding=\"same\", activation='relu'))\n",
        "model_nogap.add(layers.Conv2D(256, (3,3), strides = (1,1), padding=\"same\", activation='relu'))\n",
        "model_nogap.add(layers.Conv2D(64, (1,1), strides = (1,1), padding=\"same\", activation='relu'))\n",
        "model_nogap.add(layers.BatchNormalization())\n",
        "model_nogap.add(layers.MaxPooling2D(pool_size=(2, 2),strides=2))\n",
        "\n",
        "\n",
        "model_nogap.add(layers.Conv2D(512, (3,3), strides = (1,1), padding=\"same\", activation='relu'))\n",
        "model_nogap.add(layers.Conv2D(512, (3,3), strides = (1,1), padding=\"same\", activation='relu'))\n",
        "model_nogap.add(layers.Conv2D(64, (1,1), strides = (1,1), padding=\"same\", activation='relu'))\n",
        "model_nogap.add(layers.BatchNormalization())\n",
        "model_nogap.add(layers.MaxPooling2D(pool_size=(2, 2),strides=2))\n",
        "model_nogap.add(layers.Dropout(0.2))\n",
        "\n",
        "model_nogap.add(layers.Flatten())\n",
        "model_nogap.add(layers.Dense(4096 , activation='relu'))\n",
        "model_nogap.add(layers.Dense(1, activation='sigmoid'))\n",
        "model_nogap.summary()"
      ],
      "metadata": {
        "id": "uhWC-ZcKbBD7"
      },
      "execution_count": null,
      "outputs": []
    },
    {
      "cell_type": "code",
      "source": [
        "X_train_nogap = X_train.astype('float32') / 255.0\n",
        "X_test_nogap = X_test.astype('float32') / 255.0"
      ],
      "metadata": {
        "id": "WJq3r22NkkJA"
      },
      "execution_count": null,
      "outputs": []
    },
    {
      "cell_type": "code",
      "source": [
        "adam = tensorflow.keras.optimizers.Adam(learning_rate = 0.0001)\n",
        "model_nogap.compile(optimizer=adam, loss='categorical_crossentropy', metrics=['accuracy'])\n",
        "model_nogap.fit(X_train_nogap, Y_train, batch_size=32, epochs=13)"
      ],
      "metadata": {
        "id": "lpWPEUJrklWx"
      },
      "execution_count": null,
      "outputs": []
    },
    {
      "cell_type": "code",
      "source": [
        "score = model_nogap.evaluate(Y_train,Y_test)"
      ],
      "metadata": {
        "id": "4ZE6_G7Eb4pX"
      },
      "execution_count": null,
      "outputs": []
    },
    {
      "cell_type": "code",
      "source": [
        "model_nogap.save('/content/drive/My Drive/MRI Classification/gap_4.h5')"
      ],
      "metadata": {
        "id": "T0jgL8MVIcT2"
      },
      "execution_count": null,
      "outputs": []
    },
    {
      "cell_type": "code",
      "source": [
        "rounded_predictions_nogap = np.argmax(model_nogap.predict(X_test_nogap), axis=-1)\n",
        "rounded_predictions_nogap[1]\n",
        "rounded_labels_nogap=np.argmax(Y_test, axis=1)\n",
        "\n",
        "cm = confusion_matrix(rounded_labels_nogap, rounded_predictions_nogap)\n",
        "print(cm)"
      ],
      "metadata": {
        "id": "MemnRT6qIec2"
      },
      "execution_count": null,
      "outputs": []
    },
    {
      "cell_type": "code",
      "source": [
        "accuracy = accuracy_score(rounded_predictions_nogap, rounded_labels_nogap)\n",
        "print('Accuracy: ' ,accuracy)\n",
        "precision = precision_score(rounded_predictions_nogap, rounded_labels_nogap, average = None)\n",
        "print('Precision: ' , precision)\n",
        "recall = recall_score(rounded_predictions_nogap, rounded_labels_nogap,average = None)\n",
        "print('Recall: ' ,recall)\n",
        "f1 = f1_score(rounded_predictions_nogap, rounded_labels_nogap,average = None)\n",
        "print('F1 score: ',f1)"
      ],
      "metadata": {
        "id": "Y9ZHSA_4IhQm"
      },
      "execution_count": null,
      "outputs": []
    },
    {
      "cell_type": "markdown",
      "source": [
        "3ο μοντέλο - EfficientNetB0\n"
      ],
      "metadata": {
        "id": "aE7GOy-Rd94s"
      }
    },
    {
      "cell_type": "code",
      "source": [
        "from tensorflow.keras.applications import EfficientNetB0\n",
        "efficientnet = EfficientNetB0(weights='imagenet',include_top=False,input_shape= (224,224,3))\n",
        "\n",
        "x = layers.Flatten()(efficientnet.output)\n",
        "x = layers.Dense(units=4096,activation=\"relu\")(x)\n",
        "x = layers.Dense(units=4,name = \"dense_final\")(x)\n",
        "x = layers.Activation(\"softmax\")(x)\n",
        "\n",
        "eff_model = tf.keras.Model(efficientnet.input, [x])"
      ],
      "metadata": {
        "id": "WxtxXqwobJPn"
      },
      "execution_count": null,
      "outputs": []
    },
    {
      "cell_type": "code",
      "source": [
        "eff_model.save('/content/drive/My Drive/MRI Classification/Multi_EfficientNet.h5')"
      ],
      "metadata": {
        "id": "DFzc8xieeMMF"
      },
      "execution_count": null,
      "outputs": []
    },
    {
      "cell_type": "code",
      "source": [
        "X_train_eff = tf.keras.applications.vgg16.preprocess_input(X_train, data_format=None)\n",
        "X_test_eff = tf.keras.applications.vgg16.preprocess_input(X_test, data_format=None)"
      ],
      "metadata": {
        "id": "eUaGZ8nWeMMI"
      },
      "execution_count": null,
      "outputs": []
    },
    {
      "cell_type": "code",
      "source": [
        "adam = tensorflow.keras.optimizers.Adam(learning_rate = 0.0001)\n",
        "eff_model.compile(optimizer=adam, loss='categorical_crossentropy', metrics=['accuracy'])\n",
        "eff_model.fit(X_train_eff, Y_train, batch_size=16, epochs=5)"
      ],
      "metadata": {
        "id": "v96QiB70eMMJ"
      },
      "execution_count": null,
      "outputs": []
    },
    {
      "cell_type": "code",
      "source": [
        "score = eff_model.evaluate(X_test_eff,Y_test)"
      ],
      "metadata": {
        "id": "ik30fv6veMML"
      },
      "execution_count": null,
      "outputs": []
    },
    {
      "cell_type": "code",
      "source": [
        "y = eff_model.get_layer('dense_final').output\n",
        "y = tf.math.scalar_mul(0.2, y)\n",
        "y = layers.Activation(\"sigmoid\")(y)\n",
        "\n",
        "eff_y_model = Model(inputs=eff_model.input, outputs=y)"
      ],
      "metadata": {
        "id": "YMVifD0lgxjT"
      },
      "execution_count": null,
      "outputs": []
    },
    {
      "cell_type": "code",
      "source": [
        "from sklearn.metrics import confusion_matrix\n",
        "rounded_predictions_eff = np.argmax(eff_model.predict(X_test_eff), axis=-1)\n",
        "rounded_predictions_eff[1]\n",
        "rounded_labels_eff=np.argmax(Y_test, axis=1)\n",
        "\n",
        "cm = confusion_matrix(rounded_labels_eff, rounded_predictions_eff)\n",
        "print(cm)"
      ],
      "metadata": {
        "id": "hQzIJoNTeMML"
      },
      "execution_count": null,
      "outputs": []
    },
    {
      "cell_type": "code",
      "source": [
        "from sklearn.metrics import accuracy_score\n",
        "from sklearn.metrics import precision_score\n",
        "from sklearn.metrics import recall_score\n",
        "from sklearn.metrics import f1_score\n",
        "\n",
        "accuracy = accuracy_score(rounded_predictions_eff, rounded_labels_eff)\n",
        "print('Accuracy: ' ,accuracy)\n",
        "precision = precision_score(rounded_predictions_eff, rounded_labels_eff, average = None)\n",
        "print('Precision: ' , precision)\n",
        "recall = recall_score(rounded_predictions_eff, rounded_labels_eff,average = None)\n",
        "print('Recall: ' ,recall)\n",
        "f1 = f1_score(rounded_predictions_eff, rounded_labels_eff,average = None)\n",
        "print('F1 score: ',f1)"
      ],
      "metadata": {
        "id": "Sx6rPTaEeMMN"
      },
      "execution_count": null,
      "outputs": []
    },
    {
      "cell_type": "markdown",
      "source": [
        "4ο Μοντέλο -  VGG16"
      ],
      "metadata": {
        "id": "A0DmaKuOd6kE"
      }
    },
    {
      "cell_type": "code",
      "source": [
        "vgg = VGG16(weights=\"imagenet\", include_top=False, input_shape=(224,224,3))\n",
        "vgg.trainable = False \n",
        "x = layers.Flatten()(vgg.output)\n",
        "x1 = layers.Dense(units=4096,activation=\"relu\")(x)\n",
        "x2 = layers.Dense(units=4,name=\"dense_final\")(x1)\n",
        "x4 = layers.Activation(\"softmax\")(x2)\n",
        "\n",
        "vgg_model = tf.keras.Model(vgg.input, [x4])"
      ],
      "metadata": {
        "id": "MsiZ26Z1bJR5",
        "colab": {
          "base_uri": "https://localhost:8080/"
        },
        "outputId": "52507e30-b3f3-4ba6-c396-48940c581131"
      },
      "execution_count": null,
      "outputs": [
        {
          "output_type": "stream",
          "name": "stdout",
          "text": [
            "Downloading data from https://storage.googleapis.com/tensorflow/keras-applications/vgg16/vgg16_weights_tf_dim_ordering_tf_kernels_notop.h5\n",
            "58892288/58889256 [==============================] - 0s 0us/step\n",
            "58900480/58889256 [==============================] - 0s 0us/step\n"
          ]
        }
      ]
    },
    {
      "cell_type": "code",
      "source": [
        "X_train_vgg = tf.keras.applications.vgg16.preprocess_input(X_train, data_format=None)\n",
        "X_test_vgg = tf.keras.applications.vgg16.preprocess_input(X_test, data_format=None)"
      ],
      "metadata": {
        "id": "-8DBAQitbj6E"
      },
      "execution_count": null,
      "outputs": []
    },
    {
      "cell_type": "code",
      "source": [
        "adam = tensorflow.keras.optimizers.Adam(learning_rate = 0.0001)\n",
        "vgg_model.compile(optimizer=adam, loss='categorical_crossentropy', metrics=['accuracy'])\n",
        "vgg_model.fit(X_train_vgg, Y_train, batch_size=16, epochs=5)"
      ],
      "metadata": {
        "id": "0GRegHJObKUn"
      },
      "execution_count": null,
      "outputs": []
    },
    {
      "cell_type": "code",
      "source": [
        "score = vgg_model.evaluate(X_test_vgg,Y_test)"
      ],
      "metadata": {
        "id": "F3aPOXagbKMG"
      },
      "execution_count": null,
      "outputs": []
    },
    {
      "cell_type": "code",
      "source": [
        "vgg_model.save('/content/drive/My Drive/MRI Classification/Multi_VGG16_1.h5')"
      ],
      "metadata": {
        "id": "r4B7DHfZbBRs"
      },
      "execution_count": null,
      "outputs": []
    },
    {
      "cell_type": "code",
      "source": [
        "y = vgg_model.get_layer('dense_final').output\n",
        "y = tf.math.scalar_mul(0.2, y)\n",
        "y = layers.Activation(\"sigmoid\")(y)\n",
        "\n",
        "vgg_y_model = Model(inputs=vgg_model.input, outputs=y)"
      ],
      "metadata": {
        "id": "U3RnMbBggwBv"
      },
      "execution_count": null,
      "outputs": []
    },
    {
      "cell_type": "code",
      "source": [
        "from sklearn.metrics import confusion_matrix\n",
        "rounded_predictions_vgg = np.argmax(vgg_model.predict(X_test_vgg), axis=-1)\n",
        "rounded_predictions_vgg[1]\n",
        "rounded_labels_vgg=np.argmax(Y_test, axis=1)\n",
        "\n",
        "cm = confusion_matrix(rounded_labels_vgg, rounded_predictions_vgg)\n",
        "print(cm)"
      ],
      "metadata": {
        "colab": {
          "base_uri": "https://localhost:8080/"
        },
        "id": "HXpmTB-cbKAT",
        "outputId": "6ce3e6a0-97f7-494e-b34c-caec4536ce30"
      },
      "execution_count": null,
      "outputs": [
        {
          "output_type": "stream",
          "name": "stdout",
          "text": [
            "[[222   1   1   2]\n",
            " [ 15 200   9   2]\n",
            " [ 33  34 148  12]\n",
            " [  7   4   1 214]]\n"
          ]
        }
      ]
    },
    {
      "cell_type": "code",
      "source": [
        "accuracy = accuracy_score(rounded_predictions_vgg, rounded_labels_vgg)\n",
        "print('Accuracy: ' ,accuracy)\n",
        "precision = precision_score(rounded_predictions_vgg, rounded_labels_vgg, average = None)\n",
        "print('Precision: ' , precision)\n",
        "recall = recall_score(rounded_predictions_vgg, rounded_labels_vgg,average = None)\n",
        "print('Recall: ' ,recall)\n",
        "f1 = f1_score(rounded_predictions_vgg, rounded_labels_vgg,average = None)\n",
        "print('F1 score: ',f1)"
      ],
      "metadata": {
        "colab": {
          "base_uri": "https://localhost:8080/"
        },
        "id": "gZJQon9PcKHt",
        "outputId": "4de8fc13-013e-48d3-d8a9-aa74bc1975b0"
      },
      "execution_count": null,
      "outputs": [
        {
          "output_type": "stream",
          "name": "stdout",
          "text": [
            "Accuracy:  0.8662983425414365\n",
            "Precision:  [0.98230088 0.88495575 0.65198238 0.94690265]\n",
            "Recall:  [0.80144404 0.83682008 0.93081761 0.93043478]\n",
            "F1 score:  [0.88270378 0.86021505 0.76683938 0.93859649]\n"
          ]
        }
      ]
    },
    {
      "cell_type": "markdown",
      "source": [
        "2η Προσέγγιση - Δυαδική Κατηγοριοποίηση"
      ],
      "metadata": {
        "id": "7rjdzHGdg0wN"
      }
    },
    {
      "cell_type": "code",
      "source": [
        "list_of_files_train_binary = []\n",
        "path_train = \"/content/drive/My Drive/MRI Classification/Brain Tumor Data Set/\"\n",
        "for file in os.listdir(path_train): #reading all sub file directories\n",
        "    mri_path_train= path_train+str(file)+'/*.jpg'\n",
        "    list_of_files_train_binary.append(mri_path_train)\n",
        "\n",
        "print(list_of_files_train_binary)"
      ],
      "metadata": {
        "id": "irFwAOJ1h-Ur",
        "colab": {
          "base_uri": "https://localhost:8080/"
        },
        "outputId": "2d2d9b53-ded4-42e7-8094-2098ed72309c"
      },
      "execution_count": null,
      "outputs": [
        {
          "output_type": "stream",
          "name": "stdout",
          "text": [
            "['/content/drive/My Drive/MRI Classification/Brain Tumor Data Set/Healthy/*.jpg', '/content/drive/My Drive/MRI Classification/Brain Tumor Data Set/Brain Tumor/*.jpg', '/content/drive/My Drive/MRI Classification/Brain Tumor Data Set/TestImages/*.jpg', '/content/drive/My Drive/MRI Classification/Brain Tumor Data Set/TestImages.png/*.jpg', '/content/drive/My Drive/MRI Classification/Brain Tumor Data Set/TrainImages.png/*.jpg']\n"
          ]
        }
      ]
    },
    {
      "cell_type": "code",
      "source": [
        "array_images_train_binary = []\n",
        "array_labels_train_binary = []\n",
        "    \n",
        "label_counter_train_binary=0\n",
        "for i in list_of_files_train_binary:\n",
        "  images_train_binary = glob.glob(i)\n",
        "        \n",
        "  for image in images_train_binary:\n",
        "    with open(image, 'rb') as r_image:\n",
        "           \n",
        "            \n",
        "      img = Image.open(image)\n",
        "      resized_image = img.resize((224,224))\n",
        "      resized_image=np.array(resized_image)\n",
        "      if len(resized_image.shape) == 3:\n",
        "        if resized_image.shape[0] == 224 and resized_image.shape[1] == 224 and resized_image.shape[2] == 3:    \n",
        "                    \n",
        "          array_images_train_binary.append(np.array(resized_image))\n",
        "          array_labels_train_binary.append(label_counter_train_binary) \n",
        "\n",
        "      \n",
        "  label_counter_train_binary = label_counter_train_binary + 1 \n"
      ],
      "metadata": {
        "id": "bp70L9zbh-ax"
      },
      "execution_count": null,
      "outputs": []
    },
    {
      "cell_type": "code",
      "source": [
        "x_train_binary = np.array(array_images_train_binary)\n",
        "y_train_binary = np.array(array_labels_train_binary)\n",
        "\n",
        "from sklearn.model_selection import train_test_split\n",
        "X_train_binary, X_test_binary, Y_train_binary, Y_test_binary = train_test_split(x_train_binary, y_train_binary, test_size=0.2, random_state=1,stratify = y_train_binary)"
      ],
      "metadata": {
        "id": "-xDt0LIniHrc"
      },
      "execution_count": null,
      "outputs": []
    },
    {
      "cell_type": "markdown",
      "source": [
        "1o μοντέλο - CNN"
      ],
      "metadata": {
        "id": "XlRsqhrjscn0"
      }
    },
    {
      "cell_type": "code",
      "source": [
        "model_gap_binary = tensorflow.keras.Sequential() \n",
        "model_gap_binary.add(layers.Input(shape=x_train_binary[0].shape))\n",
        "model_gap_binary.add(layers.Conv2D(3, (3,3), strides = (1,1), padding=\"same\", activation='relu'))\n",
        "model_gap_binary.add(layers.Conv2D(64, (3,3), strides = (1,1), padding=\"same\", activation='relu'))\n",
        "model_gap_binary.add(layers.BatchNormalization())\n",
        "model_gap_binary.add(layers.MaxPooling2D(pool_size=(2, 2),strides=2))\n",
        "model_gap_binary.add(layers.Dropout(0.2))\n",
        "\n",
        "model_gap_binary.add(layers.Conv2D(128, (3,3), strides = (1,1), padding=\"same\", activation='relu'))\n",
        "model_gap_binary.add(layers.Conv2D(128, (3,3), strides = (1,1), padding=\"same\", activation='relu'))\n",
        "model_gap_binary.add(layers.Conv2D(128, (3,3), strides = (1,1), padding=\"same\", activation='relu'))\n",
        "model_gap_binary.add(layers.MaxPooling2D(pool_size=(2, 2),strides=2))\n",
        "model_gap_binary.add(layers.Dropout(0.2))\n",
        "\n",
        "model_gap_binary.add(layers.Conv2D(256, (3,3), strides = (1,1), padding=\"same\", activation='relu'))\n",
        "model_gap_binary.add(layers.Conv2D(256, (3,3), strides = (1,1), padding=\"same\", activation='relu'))\n",
        "model_gap_binary.add(layers.Conv2D(256, (3,3), strides = (1,1), padding=\"same\", activation='relu'))\n",
        "model_gap_binary.add(layers.MaxPooling2D(pool_size=(2, 2),strides=2))\n",
        "model_gap_binary.add(layers.Dropout(0.2))\n",
        "\n",
        "model_gap_binary.add(layers.Conv2D(512, (3,3), strides = (1,1), padding=\"same\", activation='relu'))\n",
        "model_gap_binary.add(layers.Conv2D(512, (3,3), strides = (1,1), padding=\"same\", activation='relu'))\n",
        "model_gap_binary.add(layers.Conv2D(512, (3,3), strides = (1,1), padding=\"same\", activation='relu'))\n",
        "model_gap_binary.add(layers.Conv2D(512, (3,3), strides = (1,1), padding=\"same\", activation='relu'))\n",
        "model_gap_binary.add(layers.MaxPooling2D(pool_size=(2, 2),strides=2))\n",
        "model_gap_binary.add(layers.Dropout(0.2))\n",
        "\n",
        "model_gap_binary.add(layers.AveragePooling2D())\n",
        "model_gap_binary.add(layers.Flatten())\n",
        "model_gap_binary.add(layers.Dense(1, activation=\"sigmoid\"))\n",
        "model_gap_binary.summary()"
      ],
      "metadata": {
        "id": "eQK1TI5Aidjg",
        "colab": {
          "base_uri": "https://localhost:8080/"
        },
        "outputId": "40da7225-13ea-4f26-aa6d-6c1d94ca1733"
      },
      "execution_count": null,
      "outputs": [
        {
          "output_type": "stream",
          "name": "stdout",
          "text": [
            "Model: \"sequential\"\n",
            "_________________________________________________________________\n",
            " Layer (type)                Output Shape              Param #   \n",
            "=================================================================\n",
            " conv2d (Conv2D)             (None, 224, 224, 3)       84        \n",
            "                                                                 \n",
            " conv2d_1 (Conv2D)           (None, 224, 224, 64)      1792      \n",
            "                                                                 \n",
            " batch_normalization (BatchN  (None, 224, 224, 64)     256       \n",
            " ormalization)                                                   \n",
            "                                                                 \n",
            " max_pooling2d (MaxPooling2D  (None, 112, 112, 64)     0         \n",
            " )                                                               \n",
            "                                                                 \n",
            " dropout (Dropout)           (None, 112, 112, 64)      0         \n",
            "                                                                 \n",
            " conv2d_2 (Conv2D)           (None, 112, 112, 128)     73856     \n",
            "                                                                 \n",
            " conv2d_3 (Conv2D)           (None, 112, 112, 128)     147584    \n",
            "                                                                 \n",
            " conv2d_4 (Conv2D)           (None, 112, 112, 128)     147584    \n",
            "                                                                 \n",
            " max_pooling2d_1 (MaxPooling  (None, 56, 56, 128)      0         \n",
            " 2D)                                                             \n",
            "                                                                 \n",
            " dropout_1 (Dropout)         (None, 56, 56, 128)       0         \n",
            "                                                                 \n",
            " conv2d_5 (Conv2D)           (None, 56, 56, 256)       295168    \n",
            "                                                                 \n",
            " conv2d_6 (Conv2D)           (None, 56, 56, 256)       590080    \n",
            "                                                                 \n",
            " conv2d_7 (Conv2D)           (None, 56, 56, 256)       590080    \n",
            "                                                                 \n",
            " max_pooling2d_2 (MaxPooling  (None, 28, 28, 256)      0         \n",
            " 2D)                                                             \n",
            "                                                                 \n",
            " dropout_2 (Dropout)         (None, 28, 28, 256)       0         \n",
            "                                                                 \n",
            " conv2d_8 (Conv2D)           (None, 28, 28, 512)       1180160   \n",
            "                                                                 \n",
            " conv2d_9 (Conv2D)           (None, 28, 28, 512)       2359808   \n",
            "                                                                 \n",
            " conv2d_10 (Conv2D)          (None, 28, 28, 512)       2359808   \n",
            "                                                                 \n",
            " conv2d_11 (Conv2D)          (None, 28, 28, 512)       2359808   \n",
            "                                                                 \n",
            " max_pooling2d_3 (MaxPooling  (None, 14, 14, 512)      0         \n",
            " 2D)                                                             \n",
            "                                                                 \n",
            " dropout_3 (Dropout)         (None, 14, 14, 512)       0         \n",
            "                                                                 \n",
            " average_pooling2d (AverageP  (None, 7, 7, 512)        0         \n",
            " ooling2D)                                                       \n",
            "                                                                 \n",
            " flatten (Flatten)           (None, 25088)             0         \n",
            "                                                                 \n",
            " dense (Dense)               (None, 1)                 25089     \n",
            "                                                                 \n",
            "=================================================================\n",
            "Total params: 10,131,157\n",
            "Trainable params: 10,131,029\n",
            "Non-trainable params: 128\n",
            "_________________________________________________________________\n"
          ]
        }
      ]
    },
    {
      "cell_type": "code",
      "source": [
        "X_train_bgap = X_train_binary.astype('float32') / 255.0\n",
        "X_test_bgap = X_test_binary.astype('float32') / 255.0"
      ],
      "metadata": {
        "id": "otbwhXy4jtVm"
      },
      "execution_count": null,
      "outputs": []
    },
    {
      "cell_type": "code",
      "execution_count": null,
      "metadata": {
        "id": "4GTRDeP8UQXV",
        "colab": {
          "base_uri": "https://localhost:8080/"
        },
        "outputId": "b8c4ced5-59be-4771-b9a9-f422158f5836"
      },
      "outputs": [
        {
          "output_type": "stream",
          "name": "stdout",
          "text": [
            "Epoch 1/20\n",
            "215/215 [==============================] - 64s 229ms/step - loss: 0.6432 - accuracy: 0.6351\n",
            "Epoch 2/20\n",
            "215/215 [==============================] - 48s 225ms/step - loss: 0.5881 - accuracy: 0.6977\n",
            "Epoch 3/20\n",
            "215/215 [==============================] - 49s 228ms/step - loss: 0.5104 - accuracy: 0.7515\n",
            "Epoch 4/20\n",
            "215/215 [==============================] - 49s 228ms/step - loss: 0.4269 - accuracy: 0.8086\n",
            "Epoch 5/20\n",
            "215/215 [==============================] - 49s 228ms/step - loss: 0.3710 - accuracy: 0.8339\n",
            "Epoch 6/20\n",
            "215/215 [==============================] - 49s 228ms/step - loss: 0.3234 - accuracy: 0.8560\n",
            "Epoch 7/20\n",
            "215/215 [==============================] - 49s 229ms/step - loss: 0.2730 - accuracy: 0.8781\n",
            "Epoch 8/20\n",
            "215/215 [==============================] - 49s 228ms/step - loss: 0.2609 - accuracy: 0.8918\n",
            "Epoch 9/20\n",
            "215/215 [==============================] - 49s 228ms/step - loss: 0.2236 - accuracy: 0.9118\n",
            "Epoch 10/20\n",
            "215/215 [==============================] - 49s 228ms/step - loss: 0.1872 - accuracy: 0.9296\n",
            "Epoch 11/20\n",
            "215/215 [==============================] - 49s 228ms/step - loss: 0.1724 - accuracy: 0.9363\n",
            "Epoch 12/20\n",
            "215/215 [==============================] - 49s 229ms/step - loss: 0.1605 - accuracy: 0.9395\n",
            "Epoch 13/20\n",
            "215/215 [==============================] - 49s 229ms/step - loss: 0.1442 - accuracy: 0.9494\n",
            "Epoch 14/20\n",
            "215/215 [==============================] - 49s 228ms/step - loss: 0.1317 - accuracy: 0.9520\n",
            "Epoch 15/20\n",
            "215/215 [==============================] - 49s 228ms/step - loss: 0.1013 - accuracy: 0.9651\n",
            "Epoch 16/20\n",
            "215/215 [==============================] - 49s 229ms/step - loss: 0.0909 - accuracy: 0.9686\n",
            "Epoch 17/20\n",
            "215/215 [==============================] - 49s 229ms/step - loss: 0.0801 - accuracy: 0.9721\n",
            "Epoch 18/20\n",
            "215/215 [==============================] - 49s 228ms/step - loss: 0.0739 - accuracy: 0.9727\n",
            "Epoch 19/20\n",
            "215/215 [==============================] - 49s 228ms/step - loss: 0.0689 - accuracy: 0.9779\n",
            "Epoch 20/20\n",
            "215/215 [==============================] - 49s 228ms/step - loss: 0.0674 - accuracy: 0.9767\n"
          ]
        },
        {
          "output_type": "execute_result",
          "data": {
            "text/plain": [
              "<keras.callbacks.History at 0x7fcbe2ed90d0>"
            ]
          },
          "metadata": {},
          "execution_count": 8
        }
      ],
      "source": [
        "adam = tensorflow.keras.optimizers.Adam(learning_rate = 0.00001)\n",
        "model_gap_binary.compile(optimizer=adam ,loss='binary_crossentropy', metrics=['accuracy'])\n",
        "model_gap_binary.fit(X_train_bgap, Y_train_binary, batch_size=16, epochs=20)"
      ]
    },
    {
      "cell_type": "code",
      "execution_count": null,
      "metadata": {
        "id": "yW3GfqNvea33",
        "colab": {
          "base_uri": "https://localhost:8080/"
        },
        "outputId": "1cd46c96-ece6-4828-8cd3-1c457cbedcc2"
      },
      "outputs": [
        {
          "output_type": "stream",
          "name": "stdout",
          "text": [
            "27/27 [==============================] - 8s 216ms/step - loss: 0.2171 - accuracy: 0.9244\n"
          ]
        }
      ],
      "source": [
        "score = model_gap_binary.evaluate(X_test_bgap,Y_test_binary)"
      ]
    },
    {
      "cell_type": "code",
      "source": [
        "model_gap_binary.save('/content/drive/My Drive/MRI Classification/GAP_Binary2.h5')"
      ],
      "metadata": {
        "id": "sUsR_fGo6QFF"
      },
      "execution_count": null,
      "outputs": []
    },
    {
      "cell_type": "code",
      "execution_count": null,
      "metadata": {
        "id": "FvWTYsEghKsZ",
        "colab": {
          "base_uri": "https://localhost:8080/"
        },
        "outputId": "65ba4143-fb4f-4cf4-9029-f5e499beae02"
      },
      "outputs": [
        {
          "output_type": "stream",
          "name": "stdout",
          "text": [
            "[[382  24]\n",
            " [176 278]]\n"
          ]
        }
      ],
      "source": [
        "y_pred_gap = model_gap_binary.predict(X_test_binary)\n",
        "y_pred_gap = (y_pred_gap > 0.5)\n",
        "  \n",
        "cm = confusion_matrix(Y_test_binary, y_pred_gap)\n",
        "\n",
        "print(cm)"
      ]
    },
    {
      "cell_type": "code",
      "execution_count": null,
      "metadata": {
        "id": "iElhM4cY9rP5",
        "colab": {
          "base_uri": "https://localhost:8080/"
        },
        "outputId": "dd1ba782-6930-407e-c817-8e973d065046"
      },
      "outputs": [
        {
          "output_type": "stream",
          "name": "stdout",
          "text": [
            "Accuracy:  0.7674418604651163\n",
            "Precision:  [0.9408867 0.6123348]\n",
            "Recall:  [0.68458781 0.9205298 ]\n",
            "F1 score:  [0.79253112 0.73544974]\n"
          ]
        }
      ],
      "source": [
        "accuracy = accuracy_score(y_pred_gap, Y_test_binary)\n",
        "print('Accuracy: ' ,accuracy)\n",
        "precision = precision_score(y_pred_gap, Y_test_binary, average = None)\n",
        "print('Precision: ' , precision)\n",
        "recall = recall_score(y_pred_gap, Y_test_binary,average = None)\n",
        "print('Recall: ' ,recall)\n",
        "f1 = f1_score(y_pred_gap, Y_test_binary,average = None)\n",
        "print('F1 score: ',f1)"
      ]
    },
    {
      "cell_type": "markdown",
      "source": [
        "2o μοντέλο - CNN με 1x1 Convolutions "
      ],
      "metadata": {
        "id": "WLLtDbZ8sXWZ"
      }
    },
    {
      "cell_type": "code",
      "execution_count": null,
      "metadata": {
        "id": "GlYGgAfAqqSr"
      },
      "outputs": [],
      "source": [
        "X_train_b_nogap = X_train_binary.astype('float32') / 255.0"
      ]
    },
    {
      "cell_type": "code",
      "execution_count": null,
      "metadata": {
        "id": "YWoPHkLKq0wA"
      },
      "outputs": [],
      "source": [
        "X_test_b_nogap = X_test_binary.astype('float32') / 255.0"
      ]
    },
    {
      "cell_type": "code",
      "source": [
        "no_gap_model_binary = tensorflow.keras.Sequential() \n",
        "no_gap_model_binary.add(layers.Input(shape=x_train[0].shape))\n",
        "no_gap_model_binary.add(layers.Conv2D(3, (3,3), strides = (1,1), padding=\"same\", activation='relu'))\n",
        "no_gap_model_binary.add(layers.Conv2D(64, (3,3), strides = (1,1), padding=\"same\", activation='relu'))\n",
        "no_gap_model_binary.add(layers.Conv2D(64, (1,1), strides = (1,1), padding=\"same\", activation='relu'))\n",
        "no_gap_model_binary.add(layers.BatchNormalization())\n",
        "no_gap_model_binary.add(layers.MaxPooling2D(pool_size=(2, 2),strides=2))\n",
        "\n",
        "no_gap_model_binary.add(layers.Conv2D(128, (3,3), strides = (1,1), padding=\"same\", activation='relu'))\n",
        "no_gap_model_binary.add(layers.Conv2D(128, (3,3), strides = (1,1), padding=\"same\", activation='relu'))\n",
        "no_gap_model_binary.add(layers.Conv2D(64, (1,1), strides = (1,1), padding=\"same\", activation='relu'))\n",
        "no_gap_model_binary.add(layers.BatchNormalization())\n",
        "no_gap_model_binary.add(layers.MaxPooling2D(pool_size=(2, 2),strides=2))\n",
        "no_gap_model_binary.add(layers.Dropout(0.2))\n",
        "\n",
        "\n",
        "no_gap_model_binary.add(layers.Conv2D(256, (3,3), strides = (1,1), padding=\"same\", activation='relu'))\n",
        "no_gap_model_binary.add(layers.Conv2D(256, (3,3), strides = (1,1), padding=\"same\", activation='relu'))\n",
        "no_gap_model_binary.add(layers.Conv2D(64, (1,1), strides = (1,1), padding=\"same\", activation='relu'))\n",
        "no_gap_model_binary.add(layers.BatchNormalization())\n",
        "no_gap_model_binary.add(layers.MaxPooling2D(pool_size=(2, 2),strides=2))\n",
        "\n",
        "\n",
        "no_gap_model_binary.add(layers.Conv2D(512, (3,3), strides = (1,1), padding=\"same\", activation='relu'))\n",
        "no_gap_model_binary.add(layers.Conv2D(512, (3,3), strides = (1,1), padding=\"same\", activation='relu'))\n",
        "no_gap_model_binary.add(layers.Conv2D(64, (1,1), strides = (1,1), padding=\"same\", activation='relu'))\n",
        "no_gap_model_binary.add(layers.BatchNormalization())\n",
        "no_gap_model_binary.add(layers.MaxPooling2D(pool_size=(2, 2),strides=2))\n",
        "no_gap_model_binary.add(layers.Dropout(0.2))\n",
        "\n",
        "no_gap_model_binary.add(layers.Flatten())\n",
        "no_gap_model_binary.add(layers.Dense(4096 , activation='relu'))\n",
        "no_gap_model_binary.add(layers.Dense(1, activation='sigmoid'))\n",
        "no_gap_model_binary.summary()"
      ],
      "metadata": {
        "id": "WDGLsiLsVErZ"
      },
      "execution_count": null,
      "outputs": []
    },
    {
      "cell_type": "code",
      "execution_count": null,
      "metadata": {
        "id": "ZUAD-2M-sV91"
      },
      "outputs": [],
      "source": [
        "adam = tensorflow.keras.optimizers.Adam(learning_rate = 0.00001)\n",
        "no_gap_model_binary.compile(optimizer=adam ,loss='binary_crossentropy', metrics=['accuracy'])\n",
        "no_gap_model_binary.fit(X_train_b_nogap, Y_train, batch_size=32, epochs=8)"
      ]
    },
    {
      "cell_type": "code",
      "source": [
        "no_gap_model_binary.save('/content/drive/My Drive/MRI Classification/Binary_Νο_GAP.h5')\n"
      ],
      "metadata": {
        "id": "JNzQNJbytBfs"
      },
      "execution_count": null,
      "outputs": []
    },
    {
      "cell_type": "code",
      "execution_count": null,
      "metadata": {
        "id": "PECigAlYsV95",
        "colab": {
          "base_uri": "https://localhost:8080/"
        },
        "outputId": "06169ab1-c527-44ad-b0be-5fd3e780e201"
      },
      "outputs": [
        {
          "output_type": "stream",
          "name": "stdout",
          "text": [
            "27/27 [==============================] - 4s 90ms/step - loss: 0.1280 - accuracy: 0.9558\n"
          ]
        }
      ],
      "source": [
        "score = no_gap_model_binary.evaluate(X_test_b_nogap,Y_test_binary)"
      ]
    },
    {
      "cell_type": "code",
      "execution_count": null,
      "metadata": {
        "id": "ZyKy-JM4sV99",
        "colab": {
          "base_uri": "https://localhost:8080/"
        },
        "outputId": "f59d8fe3-5d67-4b89-94e6-2b62cf38e489"
      },
      "outputs": [
        {
          "output_type": "stream",
          "name": "stdout",
          "text": [
            "[[388  18]\n",
            " [ 20 434]]\n"
          ]
        }
      ],
      "source": [
        "y_pred_nogap = no_gap_model_binary.predict(X_test_b_nogap)\n",
        "y_pred_nogap = (y_pred_nogap[:,0] > 0.5)\n",
        "    \n",
        "cm = confusion_matrix(Y_test_binary, y_pred_nogap)\n",
        "\n",
        "print(cm)"
      ]
    },
    {
      "cell_type": "code",
      "source": [
        "accuracy = accuracy_score(y_pred_nogap, Y_test_binary)\n",
        "print('Accuracy: ' ,accuracy)\n",
        "precision = precision_score(y_pred_nogap, Y_test_binary, average = None)\n",
        "print('Precision: ' , precision)\n",
        "recall = recall_score(y_pred_nogap, Y_test_binary,average = None)\n",
        "print('Recall: ' ,recall)\n",
        "f1 = f1_score(y_pred_nogap, Y_test_binary,average = None)\n",
        "print('F1 score: ',f1)"
      ],
      "metadata": {
        "colab": {
          "base_uri": "https://localhost:8080/"
        },
        "id": "m0omxivM2-Un",
        "outputId": "7c48b29c-3322-4d19-b5b4-c30230514cca"
      },
      "execution_count": null,
      "outputs": [
        {
          "output_type": "stream",
          "name": "stdout",
          "text": [
            "Accuracy:  0.9558139534883721\n",
            "Precision:  [0.95566502 0.95594714]\n",
            "Recall:  [0.95098039 0.96017699]\n",
            "F1 score:  [0.95331695 0.9580574 ]\n"
          ]
        }
      ]
    },
    {
      "cell_type": "markdown",
      "source": [
        "3o μοντέλο - EfficientNetB0\n"
      ],
      "metadata": {
        "id": "aR_tE0mGg0s1"
      }
    },
    {
      "cell_type": "code",
      "source": [
        "\n",
        "efficientnet = EfficientNetB0(weights='imagenet',include_top=False,input_shape= (224,224,3))\n",
        "\n",
        "x = layers.Flatten()(efficientnet.output)\n",
        "\n",
        "x = layers.Dense(units=512,activation=\"relu\")(x)\n",
        "\n",
        "x = layers.Dense(units=1,name = \"dense_final\")(x)\n",
        "x = layers.Activation(\"sigmoid\")(x)\n",
        "\n",
        "b_eff_model = tf.keras.Model(efficientnet.input, [x])"
      ],
      "metadata": {
        "id": "VCowkPzSpMjv"
      },
      "execution_count": null,
      "outputs": []
    },
    {
      "cell_type": "code",
      "source": [
        "adam = tensorflow.keras.optimizers.Adam(learning_rate = 0.0001)\n",
        "b_eff_model.compile(optimizer=adam ,loss='binary_crossentropy', metrics=['accuracy'])\n",
        "b_eff_model.fit(X_train_binary, Y_train_binary, batch_size=16, epochs=5)"
      ],
      "metadata": {
        "id": "LGTUgXndp18o"
      },
      "execution_count": null,
      "outputs": []
    },
    {
      "cell_type": "code",
      "source": [
        "b_eff_model.save('/content/drive/My Drive/MRI Classification/Binary_EfficientNetB0.h5')"
      ],
      "metadata": {
        "id": "e8Nf_hcXp75m"
      },
      "execution_count": null,
      "outputs": []
    },
    {
      "cell_type": "code",
      "source": [
        "score = b_eff_model.evaluate(X_test_binary,Y_test_binary)"
      ],
      "metadata": {
        "id": "zPkisFLap-QR",
        "colab": {
          "base_uri": "https://localhost:8080/"
        },
        "outputId": "345fb365-a286-4af1-82bf-f3267d919dbc"
      },
      "execution_count": null,
      "outputs": [
        {
          "output_type": "stream",
          "name": "stdout",
          "text": [
            "27/27 [==============================] - 4s 82ms/step - loss: 0.1369 - accuracy: 0.9616\n"
          ]
        }
      ]
    },
    {
      "cell_type": "code",
      "source": [
        "y = b_eff_model.get_layer('dense_final').output\n",
        "y = tf.math.scalar_mul(0.2, y)\n",
        "y = layers.Activation(\"sigmoid\")(y)\n",
        "\n",
        "b_eff_y_model = Model(inputs=b_eff_model.input, outputs=y)"
      ],
      "metadata": {
        "id": "oisIqB3ZgzNW"
      },
      "execution_count": null,
      "outputs": []
    },
    {
      "cell_type": "code",
      "source": [
        "y_pred_eff = b_eff_model.predict(X_test_binary)\n",
        "y_pred_eff = (y_pred_eff > 0.5)\n",
        "    \n",
        "cm = confusion_matrix(Y_test_binary, y_pred_eff)\n",
        "\n",
        "print(cm)"
      ],
      "metadata": {
        "id": "2EJ8QKRRqOgD",
        "colab": {
          "base_uri": "https://localhost:8080/"
        },
        "outputId": "16711b13-b510-4851-da40-568157b184a3"
      },
      "execution_count": null,
      "outputs": [
        {
          "output_type": "stream",
          "name": "stdout",
          "text": [
            "[[406   0]\n",
            " [ 33 421]]\n"
          ]
        }
      ]
    },
    {
      "cell_type": "code",
      "source": [
        "accuracy = accuracy_score(y_pred_eff, Y_test_binary)\n",
        "print('Accuracy: ' ,accuracy)\n",
        "precision = precision_score(y_pred_eff, Y_test_binary, average = None)\n",
        "print('Precision: ' , precision)\n",
        "recall = recall_score(y_pred_eff, Y_test_binary,average = None)\n",
        "print('Recall: ' ,recall)\n",
        "f1 = f1_score(y_pred_eff, Y_test_binary,average = None)\n",
        "print('F1 score: ',f1)"
      ],
      "metadata": {
        "colab": {
          "base_uri": "https://localhost:8080/"
        },
        "id": "MbTDYIYQ3e1w",
        "outputId": "0c0b5097-9637-42fe-f250-c95374bbe328"
      },
      "execution_count": null,
      "outputs": [
        {
          "output_type": "stream",
          "name": "stdout",
          "text": [
            "Accuracy:  0.9616279069767442\n",
            "Precision:  [1.         0.92731278]\n",
            "Recall:  [0.92482916 1.        ]\n",
            "F1 score:  [0.96094675 0.96228571]\n"
          ]
        }
      ]
    },
    {
      "cell_type": "markdown",
      "source": [
        "4ο μοντέλο - VGG16"
      ],
      "metadata": {
        "id": "4L5YoP6Cg4aq"
      }
    },
    {
      "cell_type": "code",
      "source": [
        "b_vgg =  VGG16(weights='imagenet',include_top=False,input_shape= (224,224,3))\n",
        "\n",
        "x = layers.Flatten()(b_vgg.output)\n",
        "\n",
        "x = layers.Dense(units=512,activation=\"relu\")(x)\n",
        "\n",
        "x = layers.Dense(units=1,name = \"dense_final\")(x)\n",
        "x = layers.Activation(\"sigmoid\")(x)\n",
        "\n",
        "b_vgg_model = tf.keras.Model(b_vgg.input, [x])"
      ],
      "metadata": {
        "id": "75xt_1Z2g3Im"
      },
      "execution_count": null,
      "outputs": []
    },
    {
      "cell_type": "code",
      "source": [
        "X_train_b_vgg = tf.keras.applications.vgg16.preprocess_input(X_train_binary, data_format=None)\n",
        "X_test_b_vgg = tf.keras.applications.vgg16.preprocess_input(X_test_binary, data_format=None)"
      ],
      "metadata": {
        "id": "kbBX3JHRkoWu"
      },
      "execution_count": null,
      "outputs": []
    },
    {
      "cell_type": "code",
      "source": [
        "adam = tensorflow.keras.optimizers.Adam(learning_rate = 0.0001)\n",
        "b_vgg_model.compile(optimizer=adam ,loss='binary_crossentropy', metrics=['accuracy'])\n",
        "b_vgg_model.fit(X_train_b_vgg, Y_train_binary, batch_size=16, epochs=5)"
      ],
      "metadata": {
        "colab": {
          "base_uri": "https://localhost:8080/"
        },
        "id": "KjcPXzV8j6nW",
        "outputId": "cc319270-c264-467d-8b26-ec26cdbd7fa5"
      },
      "execution_count": null,
      "outputs": [
        {
          "output_type": "stream",
          "name": "stdout",
          "text": [
            "Epoch 1/5\n",
            "215/215 [==============================] - 69s 247ms/step - loss: 0.7090 - accuracy: 0.6823\n",
            "Epoch 2/5\n",
            "215/215 [==============================] - 52s 241ms/step - loss: 0.3752 - accuracy: 0.8382\n",
            "Epoch 3/5\n",
            "215/215 [==============================] - 51s 239ms/step - loss: 0.2289 - accuracy: 0.9107\n",
            "Epoch 4/5\n",
            "215/215 [==============================] - 51s 239ms/step - loss: 0.1378 - accuracy: 0.9433\n",
            "Epoch 5/5\n",
            "215/215 [==============================] - 52s 240ms/step - loss: 0.1253 - accuracy: 0.9520\n"
          ]
        },
        {
          "output_type": "execute_result",
          "data": {
            "text/plain": [
              "<keras.callbacks.History at 0x7f948007e410>"
            ]
          },
          "metadata": {},
          "execution_count": 17
        }
      ]
    },
    {
      "cell_type": "code",
      "source": [
        "score = b_vgg_model.evaluate(X_test_b_vgg,Y_test_binary)"
      ],
      "metadata": {
        "colab": {
          "base_uri": "https://localhost:8080/"
        },
        "id": "7qJZX_uQm9hi",
        "outputId": "a00e5007-9b81-47d1-b8e2-6319571bd40d"
      },
      "execution_count": null,
      "outputs": [
        {
          "output_type": "stream",
          "name": "stdout",
          "text": [
            "27/27 [==============================] - 10s 268ms/step - loss: 0.1477 - accuracy: 0.9523\n"
          ]
        }
      ]
    },
    {
      "cell_type": "code",
      "source": [
        "b_vgg_model.save('/content/drive/My Drive/MRI Classification/VGG16_Binary.h5')"
      ],
      "metadata": {
        "id": "rnYMChNTnFFq"
      },
      "execution_count": null,
      "outputs": []
    },
    {
      "cell_type": "code",
      "source": [
        "b_vgg_model = tf.keras.models.load_model('/content/drive/My Drive/MRI Classification/VGG16_Binary.h5')"
      ],
      "metadata": {
        "id": "cRXGf9L73-Z1"
      },
      "execution_count": null,
      "outputs": []
    },
    {
      "cell_type": "code",
      "source": [
        "y = b_eff_model.get_layer('dense_final').output\n",
        "y = tf.math.scalar_mul(0.2, y)\n",
        "y = layers.Activation(\"sigmoid\")(y)\n",
        "\n",
        "b_vgg_y_model = Model(inputs=b_eff_model.input, outputs=y)"
      ],
      "metadata": {
        "id": "L_VWuUe7qBIb"
      },
      "execution_count": null,
      "outputs": []
    },
    {
      "cell_type": "code",
      "source": [
        "y_pred_vgg = b_vgg_model.predict(X_test_binary)\n",
        "y_pred_vgg = (y_pred_vgg > 0.5)\n",
        "    \n",
        "cm = confusion_matrix(Y_test_binary, y_pred_vgg)\n",
        "\n",
        "print(cm)"
      ],
      "metadata": {
        "colab": {
          "base_uri": "https://localhost:8080/"
        },
        "outputId": "185e32aa-15f4-4178-de13-13fd45f963e1",
        "id": "Bb8lFDwS4KIa"
      },
      "execution_count": null,
      "outputs": [
        {
          "output_type": "stream",
          "name": "stdout",
          "text": [
            "[[308  98]\n",
            " [ 89 365]]\n"
          ]
        }
      ]
    },
    {
      "cell_type": "code",
      "source": [
        "accuracy = accuracy_score(y_pred_vgg, Y_test_binary)\n",
        "print('Accuracy: ' ,accuracy)\n",
        "precision = precision_score(y_pred_vgg, Y_test_binary, average = None)\n",
        "print('Precision: ' , precision)\n",
        "recall = recall_score(y_pred_vgg, Y_test_binary,average = None)\n",
        "print('Recall: ' ,recall)\n",
        "f1 = f1_score(y_pred_vgg, Y_test_binary,average = None)\n",
        "print('F1 score: ',f1)"
      ],
      "metadata": {
        "colab": {
          "base_uri": "https://localhost:8080/"
        },
        "outputId": "434b0d72-d66c-43eb-dd3d-7fa6f8824e2d",
        "id": "17YeoOft4KIk"
      },
      "execution_count": null,
      "outputs": [
        {
          "output_type": "stream",
          "name": "stdout",
          "text": [
            "Accuracy:  0.7825581395348837\n",
            "Precision:  [0.75862069 0.80396476]\n",
            "Recall:  [0.77581864 0.78833693]\n",
            "F1 score:  [0.76712329 0.79607415]\n"
          ]
        }
      ]
    }
  ]
}