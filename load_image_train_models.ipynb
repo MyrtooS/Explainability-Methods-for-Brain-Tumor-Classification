{
  "nbformat": 4,
  "nbformat_minor": 0,
  "metadata": {
    "colab": {
      "name": "load image train models.ipynb",
      "provenance": [],
      "collapsed_sections": [],
      "authorship_tag": "ABX9TyNfZrRcSGg22dKu72NHIvaG",
      "include_colab_link": true
    },
    "kernelspec": {
      "name": "python3",
      "display_name": "Python 3"
    },
    "language_info": {
      "name": "python"
    },
    "accelerator": "GPU",
    "gpuClass": "standard"
  },
  "cells": [
    {
      "cell_type": "markdown",
      "metadata": {
        "id": "view-in-github",
        "colab_type": "text"
      },
      "source": [
        "<a href=\"https://colab.research.google.com/github/MyrtooS/Explainability-Methods-for-Brain-Tumor-Classification/blob/main/load_image_train_models.ipynb\" target=\"_parent\"><img src=\"https://colab.research.google.com/assets/colab-badge.svg\" alt=\"Open In Colab\"/></a>"
      ]
    },
    {
      "cell_type": "code",
      "source": [
        "from google.colab import drive\n",
        "drive.mount('/content/drive')\n",
        "!ls '/content/drive'\n",
        "folder='/content/drive/My Drive/MRI Classification/mri_kaggle'"
      ],
      "metadata": {
        "colab": {
          "base_uri": "https://localhost:8080/"
        },
        "id": "7g_XWSP5gk2c",
        "outputId": "74586594-d566-4797-f6b0-d23bed994888"
      },
      "execution_count": null,
      "outputs": [
        {
          "output_type": "stream",
          "name": "stdout",
          "text": [
            "Drive already mounted at /content/drive; to attempt to forcibly remount, call drive.mount(\"/content/drive\", force_remount=True).\n",
            "MyDrive\n"
          ]
        }
      ]
    },
    {
      "cell_type": "code",
      "source": [
        "import cv2\n",
        "import os\n",
        "import glob\n",
        "from PIL import Image\n",
        "import os, os.path\n",
        "import numpy as np\n",
        "import tensorflow as tf\n",
        "from tensorflow.keras import layers\n",
        "import tensorflow.keras.datasets \n",
        "import matplotlib.pyplot as plt\n",
        "from tensorflow.keras.models import load_model\n",
        "from sklearn.datasets import load_files   \n",
        "from keras.utils import np_utils\n",
        "# from tensorflow.keras import applications\n",
        "# from tensorflow.keras import optimizers\n",
        "from tensorflow.keras.models import Sequential,Model,load_model\n",
        "from tensorflow.keras.layers import Dense, Dropout, Flatten, Conv2D, MaxPool2D,GlobalAveragePooling2D\n",
        "from sklearn.metrics import confusion_matrix\n",
        "from imblearn.over_sampling import SMOTE\n",
        "from sklearn.model_selection import train_test_split\n",
        "from sklearn.metrics import confusion_matrix\n",
        "from sklearn.metrics import accuracy_score\n",
        "from sklearn.metrics import precision_score\n",
        "from sklearn.metrics import recall_score\n",
        "from sklearn.metrics import f1_score\n",
        "from tensorflow.keras.applications.vgg16 import VGG16\n",
        "from tensorflow.keras.applications import EfficientNetB0"
      ],
      "metadata": {
        "id": "yFzq85G2gkzM"
      },
      "execution_count": null,
      "outputs": []
    },
    {
      "cell_type": "code",
      "source": [
        "list_of_files_train = []\n",
        "path_train = \"/content/drive/My Drive/MRI Classification/mri_kaggle/Training/\"\n",
        "for file in os.listdir(path_train): #reading all sub file directories\n",
        "    mri_path_train= path_train+str(file)+'/*.jpg'\n",
        "    list_of_files_train.append(mri_path_train)\n",
        "\n",
        "print(list_of_files_train)\n"
      ],
      "metadata": {
        "colab": {
          "base_uri": "https://localhost:8080/"
        },
        "id": "26ES1PZ5gkwX",
        "outputId": "d967cc27-cd60-49b3-ef73-a16319be324c"
      },
      "execution_count": null,
      "outputs": [
        {
          "output_type": "stream",
          "name": "stdout",
          "text": [
            "['/content/drive/My Drive/MRI Classification/mri_kaggle/Training/pituitary_tumor/*.jpg', '/content/drive/My Drive/MRI Classification/mri_kaggle/Training/glioma_tumor/*.jpg', '/content/drive/My Drive/MRI Classification/mri_kaggle/Training/meningioma_tumor/*.jpg', '/content/drive/My Drive/MRI Classification/mri_kaggle/Training/no_tumor/*.jpg']\n"
          ]
        }
      ]
    },
    {
      "cell_type": "code",
      "source": [
        "array_images_train = []\n",
        "array_labels_train = []\n",
        "    \n",
        "label_counter_train=0\n",
        "for i in list_of_files_train:\n",
        "  images_train = glob.glob(i)\n",
        "        \n",
        "  for image in images_train:\n",
        "    with open(image, 'rb') as r_image:\n",
        "           \n",
        "            \n",
        "      img = Image.open(image)\n",
        "      resized_image = img.resize((224,224))\n",
        "      resized_image=np.array(resized_image)\n",
        "                \n",
        "      array_images_train.append(resized_image)\n",
        "      array_labels_train.append(label_counter_train)  \n",
        "         \n",
        "  label_counter_train = label_counter_train + 1 "
      ],
      "metadata": {
        "id": "uvk-wR6-gksB"
      },
      "execution_count": null,
      "outputs": []
    },
    {
      "cell_type": "code",
      "source": [
        "x_train = np.array(array_images_train)\n",
        "y_train = np.array(array_labels_train)\n",
        "y_train = tensorflow.keras.utils.to_categorical(y_train, 4)\n",
        "\n",
        "y1_train = y_train.reshape(4054,-1)\n",
        "x1_train = x_train.reshape(4054,-1)\n",
        "\n",
        "sm = SMOTE(random_state=42)\n",
        "X_smote, y_smote = sm.fit_resample(x1_train, y1_train)\n",
        "x_train  = X_smote.reshape(4524,224,224,3)\n",
        "\n",
        "\n",
        "X_train, X_test, Y_train, Y_test = train_test_split(x_train, y_smote, test_size=0.2, random_state=1, stratify = y_smote)"
      ],
      "metadata": {
        "id": "dfMdf33Wgkpp"
      },
      "execution_count": null,
      "outputs": []
    },
    {
      "cell_type": "markdown",
      "source": [
        "1η Προσέγγιση - Κατηγοριοποίηση με 4 κλάσεις"
      ],
      "metadata": {
        "id": "k-wQbx5kgqZK"
      }
    },
    {
      "cell_type": "markdown",
      "source": [
        "1ο custom μοντέλο"
      ],
      "metadata": {
        "id": "7ZyTb4oCIkPJ"
      }
    },
    {
      "cell_type": "code",
      "execution_count": null,
      "metadata": {
        "id": "Av_O8FMIaR37"
      },
      "outputs": [],
      "source": [
        "model = tensorflow.keras.Sequential() \n",
        "model.add(layers.Input(shape=x_train[0].shape))\n",
        "model.add(layers.Conv2D(3, (3,3), strides = (1,1), padding=\"same\", activation='relu'))\n",
        "model.add(layers.Conv2D(64, (3,3), strides = (1,1), padding=\"same\", activation='relu'))\n",
        "model.add(layers.BatchNormalization())\n",
        "model.add(layers.MaxPooling2D(pool_size=(2, 2),strides=2))\n",
        "model.add(layers.Dropout(0.2))\n",
        "\n",
        "model.add(layers.Conv2D(128, (3,3), strides = (1,1), padding=\"same\", activation='relu'))\n",
        "model.add(layers.Conv2D(128, (3,3), strides = (1,1), padding=\"same\", activation='relu'))\n",
        "model.add(layers.Conv2D(128, (3,3), strides = (1,1), padding=\"same\", activation='relu'))\n",
        "model.add(layers.BatchNormalization())\n",
        "model.add(layers.MaxPooling2D(pool_size=(2, 2),strides=2))\n",
        "model.add(layers.Dropout(0.2))\n",
        "\n",
        "model.add(layers.Conv2D(256, (3,3), strides = (1,1), padding=\"same\", activation='relu'))\n",
        "model.add(layers.Conv2D(256, (3,3), strides = (1,1), padding=\"same\", activation='relu'))\n",
        "model.add(layers.Conv2D(256, (3,3), strides = (1,1), padding=\"same\", activation='relu'))\n",
        "model.add(layers.BatchNormalization())\n",
        "model.add(layers.MaxPooling2D(pool_size=(2, 2),strides=2))\n",
        "model.add(layers.Dropout(0.2))\n",
        "\n",
        "model.add(layers.Conv2D(512, (3,3), strides = (1,1), padding=\"same\", activation='relu'))\n",
        "model.add(layers.Conv2D(512, (3,3), strides = (1,1), padding=\"same\", activation='relu'))\n",
        "model.add(layers.Conv2D(512, (3,3), strides = (1,1), padding=\"same\", activation='relu'))\n",
        "model.add(layers.Conv2D(512, (3,3), strides = (1,1), padding=\"same\", activation='relu'))\n",
        "model.add(layers.BatchNormalization())\n",
        "model.add(layers.MaxPooling2D(pool_size=(2, 2),strides=2))\n",
        "model.add(layers.Dropout(0.2))\n",
        "\n",
        "model.add(layers.AveragePooling2D())\n",
        "model.add(layers.Flatten())\n",
        "model.add(layers.Dense(4, activation='softmax'))"
      ]
    },
    {
      "cell_type": "code",
      "source": [
        "X_train_gap = X_train.astype('float32') / 255.0\n",
        "X_test_gap = X_test.astype('float32') / 255.0"
      ],
      "metadata": {
        "id": "q23hhn5fj5xR"
      },
      "execution_count": null,
      "outputs": []
    },
    {
      "cell_type": "code",
      "source": [
        "sgd = tensorflow.keras.optimizers.SGD(learning_rate= 0.001)\n",
        "adam = tensorflow.keras.optimizers.Adam(learning_rate = 0.0001)\n",
        "model.compile(optimizer=adam, loss='categorical_crossentropy', metrics=['accuracy'])\n",
        "model.fit(X_train_gap, Y_train, batch_size=32, epochs=13)"
      ],
      "metadata": {
        "id": "a-sF4Rswj5PK"
      },
      "execution_count": null,
      "outputs": []
    },
    {
      "cell_type": "code",
      "source": [
        "model.save('/content/drive/My Drive/MRI Classification/gap_4.h5')"
      ],
      "metadata": {
        "id": "PtASTEPNIvZ5"
      },
      "execution_count": null,
      "outputs": []
    },
    {
      "cell_type": "code",
      "source": [
        "gap_model = tf.keras.models.load_model('/content/drive/My Drive/MRI Classification/gap_4.h5')"
      ],
      "metadata": {
        "id": "WjJK3wf8IvZ6"
      },
      "execution_count": null,
      "outputs": []
    },
    {
      "cell_type": "code",
      "source": [
        "rounded_predictions = np.argmax(gap_model.predict(X_test_gap), axis=-1)\n",
        "rounded_predictions[1]\n",
        "rounded_labels=np.argmax(Y_test, axis=1)\n",
        "\n",
        "cm = confusion_matrix(rounded_labels, rounded_predictions)\n",
        "print(cm)"
      ],
      "metadata": {
        "id": "iuSo3IX7IvZ7"
      },
      "execution_count": null,
      "outputs": []
    },
    {
      "cell_type": "code",
      "source": [
        "accuracy = accuracy_score(rounded_predictions, rounded_labels)\n",
        "print('Accuracy: ' ,accuracy)\n",
        "precision = precision_score(rounded_predictions, rounded_labels, average = None)\n",
        "print('Precision: ' , precision)\n",
        "recall = recall_score(rounded_predictions, rounded_labels,average = None)\n",
        "print('Recall: ' ,recall)\n",
        "f1 = f1_score(rounded_predictions, rounded_labels,average = None)\n",
        "print('F1 score: ',f1)"
      ],
      "metadata": {
        "id": "6tMAwmfeIvZ8"
      },
      "execution_count": null,
      "outputs": []
    },
    {
      "cell_type": "markdown",
      "source": [
        "2o custom μοντέλο"
      ],
      "metadata": {
        "id": "0C-2KEgJur1j"
      }
    },
    {
      "cell_type": "code",
      "source": [
        "model = tensorflow.keras.Sequential() \n",
        "model.add(layers.Input(shape=x_train[0].shape))\n",
        "model.add(layers.Conv2D(3, (3,3), strides = (1,1), padding=\"same\", activation='relu'))\n",
        "model.add(layers.Conv2D(64, (3,3), strides = (1,1), padding=\"same\", activation='relu'))\n",
        "model.add(layers.Conv2D(64, (1,1), strides = (1,1), padding=\"same\", activation='relu'))\n",
        "model.add(layers.BatchNormalization())\n",
        "model.add(layers.MaxPooling2D(pool_size=(2, 2),strides=2))\n",
        "\n",
        "model.add(layers.Conv2D(128, (3,3), strides = (1,1), padding=\"same\", activation='relu'))\n",
        "model.add(layers.Conv2D(128, (3,3), strides = (1,1), padding=\"same\", activation='relu'))\n",
        "model.add(layers.Conv2D(64, (1,1), strides = (1,1), padding=\"same\", activation='relu'))\n",
        "model.add(layers.BatchNormalization())\n",
        "model.add(layers.MaxPooling2D(pool_size=(2, 2),strides=2))\n",
        "model.add(layers.Dropout(0.2))\n",
        "\n",
        "\n",
        "model.add(layers.Conv2D(256, (3,3), strides = (1,1), padding=\"same\", activation='relu'))\n",
        "model.add(layers.Conv2D(256, (3,3), strides = (1,1), padding=\"same\", activation='relu'))\n",
        "model.add(layers.Conv2D(64, (1,1), strides = (1,1), padding=\"same\", activation='relu'))\n",
        "model.add(layers.BatchNormalization())\n",
        "model.add(layers.MaxPooling2D(pool_size=(2, 2),strides=2))\n",
        "\n",
        "\n",
        "model.add(layers.Conv2D(512, (3,3), strides = (1,1), padding=\"same\", activation='relu'))\n",
        "model.add(layers.Conv2D(512, (3,3), strides = (1,1), padding=\"same\", activation='relu'))\n",
        "model.add(layers.Conv2D(64, (1,1), strides = (1,1), padding=\"same\", activation='relu'))\n",
        "model.add(layers.BatchNormalization())\n",
        "model.add(layers.MaxPooling2D(pool_size=(2, 2),strides=2))\n",
        "model.add(layers.Dropout(0.2))\n",
        "\n",
        "model.add(layers.Flatten())\n",
        "model.add(layers.Dense(4096 , activation='relu'))\n",
        "model.add(layers.Dense(1, activation='sigmoid'))\n",
        "model.summary()"
      ],
      "metadata": {
        "id": "uhWC-ZcKbBD7"
      },
      "execution_count": null,
      "outputs": []
    },
    {
      "cell_type": "code",
      "source": [
        "X_train_nogap = X_train.astype('float32') / 255.0\n",
        "X_test_nogap = X_test.astype('float32') / 255.0"
      ],
      "metadata": {
        "id": "WJq3r22NkkJA"
      },
      "execution_count": null,
      "outputs": []
    },
    {
      "cell_type": "code",
      "source": [
        "sgd = tensorflow.keras.optimizers.SGD(learning_rate= 0.001)\n",
        "adam = tensorflow.keras.optimizers.Adam(learning_rate = 0.0001)\n",
        "model.compile(optimizer=adam, loss='categorical_crossentropy', metrics=['accuracy'])\n",
        "model.fit(X_train_nogap, Y_train_nogap, batch_size=32, epochs=13)"
      ],
      "metadata": {
        "id": "lpWPEUJrklWx"
      },
      "execution_count": null,
      "outputs": []
    },
    {
      "cell_type": "code",
      "source": [
        "score = vgg_model.evaluate(X_test_vgg,Y_test)"
      ],
      "metadata": {
        "id": "4ZE6_G7Eb4pX"
      },
      "execution_count": null,
      "outputs": []
    },
    {
      "cell_type": "code",
      "source": [
        "model.save('/content/drive/My Drive/MRI Classification/gap_4.h5')"
      ],
      "metadata": {
        "id": "T0jgL8MVIcT2"
      },
      "execution_count": null,
      "outputs": []
    },
    {
      "cell_type": "code",
      "source": [
        "nogap_model = tf.keras.models.load_model('/content/drive/My Drive/MRI Classification/No_gap_multi.h5')"
      ],
      "metadata": {
        "id": "7r4P_OCVIcNR"
      },
      "execution_count": null,
      "outputs": []
    },
    {
      "cell_type": "code",
      "source": [
        "rounded_predictions = np.argmax(nogap_model.predict(X_test_nogap), axis=-1)\n",
        "rounded_predictions[1]\n",
        "rounded_labels=np.argmax(Y_test, axis=1)\n",
        "\n",
        "cm = confusion_matrix(rounded_labels, rounded_predictions)\n",
        "print(cm)"
      ],
      "metadata": {
        "id": "MemnRT6qIec2"
      },
      "execution_count": null,
      "outputs": []
    },
    {
      "cell_type": "code",
      "source": [
        "accuracy = accuracy_score(rounded_predictions, rounded_labels)\n",
        "print('Accuracy: ' ,accuracy)\n",
        "precision = precision_score(rounded_predictions, rounded_labels, average = None)\n",
        "print('Precision: ' , precision)\n",
        "recall = recall_score(rounded_predictions, rounded_labels,average = None)\n",
        "print('Recall: ' ,recall)\n",
        "f1 = f1_score(rounded_predictions, rounded_labels,average = None)\n",
        "print('F1 score: ',f1)"
      ],
      "metadata": {
        "id": "Y9ZHSA_4IhQm"
      },
      "execution_count": null,
      "outputs": []
    },
    {
      "cell_type": "markdown",
      "source": [
        "VGG16"
      ],
      "metadata": {
        "id": "A0DmaKuOd6kE"
      }
    },
    {
      "cell_type": "code",
      "source": [
        "vgg = VGG16(weights=\"imagenet\", include_top=False, input_shape=(224,224,3))\n",
        "vgg.trainable = False \n",
        "x = layers.Flatten()(vgg.output)\n",
        "x1 = layers.Dense(units=4096,activation=\"relu\")(x)\n",
        "x2 = layers.Dense(units=4,name=\"dense_final\")(x1)\n",
        "x4 = layers.Activation(\"softmax\")(x2)\n",
        "\n",
        "vgg_model = tf.keras.Model(vgg.input, [x4])"
      ],
      "metadata": {
        "id": "MsiZ26Z1bJR5",
        "colab": {
          "base_uri": "https://localhost:8080/"
        },
        "outputId": "52507e30-b3f3-4ba6-c396-48940c581131"
      },
      "execution_count": null,
      "outputs": [
        {
          "output_type": "stream",
          "name": "stdout",
          "text": [
            "Downloading data from https://storage.googleapis.com/tensorflow/keras-applications/vgg16/vgg16_weights_tf_dim_ordering_tf_kernels_notop.h5\n",
            "58892288/58889256 [==============================] - 0s 0us/step\n",
            "58900480/58889256 [==============================] - 0s 0us/step\n"
          ]
        }
      ]
    },
    {
      "cell_type": "code",
      "source": [
        "X_train_vgg = tf.keras.applications.vgg16.preprocess_input(X_train, data_format=None)\n",
        "X_test_vgg = tf.keras.applications.vgg16.preprocess_input(X_test, data_format=None)"
      ],
      "metadata": {
        "id": "-8DBAQitbj6E"
      },
      "execution_count": null,
      "outputs": []
    },
    {
      "cell_type": "code",
      "source": [
        "sgd = tensorflow.keras.optimizers.SGD(learning_rate= 0.001)\n",
        "adam = tensorflow.keras.optimizers.Adam(learning_rate = 0.0001)\n",
        "model.compile(optimizer=adam, loss='categorical_crossentropy', metrics=['accuracy'])\n",
        "model.fit(X_train_vgg, Y_train, batch_size=16, epochs=5)"
      ],
      "metadata": {
        "id": "0GRegHJObKUn"
      },
      "execution_count": null,
      "outputs": []
    },
    {
      "cell_type": "code",
      "source": [
        "score = vgg_model.evaluate(X_test_vgg,Y_test)"
      ],
      "metadata": {
        "id": "F3aPOXagbKMG"
      },
      "execution_count": null,
      "outputs": []
    },
    {
      "cell_type": "code",
      "source": [
        "vgg_model.save('/content/drive/My Drive/MRI Classification/Multi_VGG16_1.h5')"
      ],
      "metadata": {
        "id": "r4B7DHfZbBRs"
      },
      "execution_count": null,
      "outputs": []
    },
    {
      "cell_type": "code",
      "source": [
        "vgg_model = tf.keras.models.load_model('/content/drive/My Drive/MRI Classification/Multi_VGG16_1.h5')"
      ],
      "metadata": {
        "id": "3Ur99NcOa7sh"
      },
      "execution_count": null,
      "outputs": []
    },
    {
      "cell_type": "code",
      "source": [
        "from sklearn.metrics import confusion_matrix\n",
        "rounded_predictions = np.argmax(vgg_model.predict(X_test_vgg), axis=-1)\n",
        "rounded_predictions[1]\n",
        "rounded_labels=np.argmax(Y_test, axis=1)\n",
        "\n",
        "cm = confusion_matrix(rounded_labels, rounded_predictions)\n",
        "print(cm)"
      ],
      "metadata": {
        "colab": {
          "base_uri": "https://localhost:8080/"
        },
        "id": "HXpmTB-cbKAT",
        "outputId": "6ce3e6a0-97f7-494e-b34c-caec4536ce30"
      },
      "execution_count": null,
      "outputs": [
        {
          "output_type": "stream",
          "name": "stdout",
          "text": [
            "[[222   1   1   2]\n",
            " [ 15 200   9   2]\n",
            " [ 33  34 148  12]\n",
            " [  7   4   1 214]]\n"
          ]
        }
      ]
    },
    {
      "cell_type": "code",
      "source": [
        "accuracy = accuracy_score(rounded_predictions, rounded_labels)\n",
        "print('Accuracy: ' ,accuracy)\n",
        "precision = precision_score(rounded_predictions, rounded_labels, average = None)\n",
        "print('Precision: ' , precision)\n",
        "recall = recall_score(rounded_predictions, rounded_labels,average = None)\n",
        "print('Recall: ' ,recall)\n",
        "f1 = f1_score(rounded_predictions, rounded_labels,average = None)\n",
        "print('F1 score: ',f1)"
      ],
      "metadata": {
        "colab": {
          "base_uri": "https://localhost:8080/"
        },
        "id": "gZJQon9PcKHt",
        "outputId": "4de8fc13-013e-48d3-d8a9-aa74bc1975b0"
      },
      "execution_count": null,
      "outputs": [
        {
          "output_type": "stream",
          "name": "stdout",
          "text": [
            "Accuracy:  0.8662983425414365\n",
            "Precision:  [0.98230088 0.88495575 0.65198238 0.94690265]\n",
            "Recall:  [0.80144404 0.83682008 0.93081761 0.93043478]\n",
            "F1 score:  [0.88270378 0.86021505 0.76683938 0.93859649]\n"
          ]
        }
      ]
    },
    {
      "cell_type": "markdown",
      "source": [
        "EfficientNetB0\n"
      ],
      "metadata": {
        "id": "aE7GOy-Rd94s"
      }
    },
    {
      "cell_type": "code",
      "source": [
        "from tensorflow.keras.applications import EfficientNetB0\n",
        "efficientnet = EfficientNetB0(weights='imagenet',include_top=False,input_shape= (224,224,3))\n",
        "\n",
        "x = layers.Flatten()(efficientnet.output)\n",
        "x = layers.Dense(units=512,activation=\"relu\")(x)\n",
        "x = layers.Dense(units=1,name = \"dense_final\")(x)\n",
        "x = layers.Activation(\"softmax\")(x)\n",
        "\n",
        "eff_model = tf.keras.Model(efficientnet.input, [x])"
      ],
      "metadata": {
        "id": "WxtxXqwobJPn"
      },
      "execution_count": null,
      "outputs": []
    },
    {
      "cell_type": "code",
      "source": [
        "eff_model.save('/content/drive/My Drive/MRI Classification/Multi_EfficientNet.h5')"
      ],
      "metadata": {
        "id": "DFzc8xieeMMF"
      },
      "execution_count": null,
      "outputs": []
    },
    {
      "cell_type": "code",
      "source": [
        "eff_model = tf.keras.models.load_model('/content/drive/My Drive/MRI Classification/Multi_EfficientNet.h5')"
      ],
      "metadata": {
        "id": "uMTddBweeMMH"
      },
      "execution_count": null,
      "outputs": []
    },
    {
      "cell_type": "code",
      "source": [
        "X_train_eff = tf.keras.applications.vgg16.preprocess_input(X_train, data_format=None)\n",
        "X_test_eff = tf.keras.applications.vgg16.preprocess_input(X_test, data_format=None)"
      ],
      "metadata": {
        "id": "eUaGZ8nWeMMI"
      },
      "execution_count": null,
      "outputs": []
    },
    {
      "cell_type": "code",
      "source": [
        "sgd = tensorflow.keras.optimizers.SGD(learning_rate= 0.001)\n",
        "adam = tensorflow.keras.optimizers.Adam(learning_rate = 0.0001)\n",
        "model.compile(optimizer=adam, loss='categorical_crossentropy', metrics=['accuracy'])\n",
        "model.fit(X_train_eff, Y_train, batch_size=16, epochs=5)"
      ],
      "metadata": {
        "id": "v96QiB70eMMJ"
      },
      "execution_count": null,
      "outputs": []
    },
    {
      "cell_type": "code",
      "source": [
        "score = eff_model.evaluate(X_test_eff,Y_test)"
      ],
      "metadata": {
        "id": "ik30fv6veMML"
      },
      "execution_count": null,
      "outputs": []
    },
    {
      "cell_type": "code",
      "source": [
        "from sklearn.metrics import confusion_matrix\n",
        "rounded_predictions = np.argmax(eff_model.predict(X_test_eff), axis=-1)\n",
        "rounded_predictions[1]\n",
        "rounded_labels=np.argmax(Y_test, axis=1)\n",
        "\n",
        "cm = confusion_matrix(rounded_labels, rounded_predictions)\n",
        "print(cm)"
      ],
      "metadata": {
        "id": "hQzIJoNTeMML"
      },
      "execution_count": null,
      "outputs": []
    },
    {
      "cell_type": "code",
      "source": [
        "from sklearn.metrics import accuracy_score\n",
        "from sklearn.metrics import precision_score\n",
        "from sklearn.metrics import recall_score\n",
        "from sklearn.metrics import f1_score\n",
        "\n",
        "accuracy = accuracy_score(rounded_predictions, rounded_labels)\n",
        "print('Accuracy: ' ,accuracy)\n",
        "precision = precision_score(rounded_predictions, rounded_labels, average = None)\n",
        "print('Precision: ' , precision)\n",
        "recall = recall_score(rounded_predictions, rounded_labels,average = None)\n",
        "print('Recall: ' ,recall)\n",
        "f1 = f1_score(rounded_predictions, rounded_labels,average = None)\n",
        "print('F1 score: ',f1)"
      ],
      "metadata": {
        "id": "Sx6rPTaEeMMN"
      },
      "execution_count": null,
      "outputs": []
    },
    {
      "cell_type": "markdown",
      "source": [
        "2η Προσέγγιση - Δυαδική Κατηγοριοποίηση"
      ],
      "metadata": {
        "id": "7rjdzHGdg0wN"
      }
    },
    {
      "cell_type": "code",
      "source": [
        "list_of_files_train_binary = []\n",
        "path_train = \"/content/drive/My Drive/MRI Classification/Brain Tumor Data Set/\"\n",
        "for file in os.listdir(path_train): #reading all sub file directories\n",
        "    mri_path_train= path_train+str(file)+'/*.jpg'\n",
        "    list_of_files_train_binary.append(mri_path_train)\n",
        "\n",
        "print(list_of_files_train_binary)"
      ],
      "metadata": {
        "id": "irFwAOJ1h-Ur"
      },
      "execution_count": null,
      "outputs": []
    },
    {
      "cell_type": "code",
      "source": [
        "array_images_train_binary = []\n",
        "array_labels_train_binary = []\n",
        "    \n",
        "label_counter_train_binary=0\n",
        "for i in list_of_files_train_binary:\n",
        "  images_train_binary = glob.glob(i)\n",
        "        \n",
        "  for image in images_train_binary:\n",
        "    with open(image, 'rb') as r_image:\n",
        "           \n",
        "            \n",
        "      img = Image.open(image)\n",
        "      resized_image = img.resize((224,224))\n",
        "      resized_image=np.array(resized_image)\n",
        "      if len(resized_image.shape) == 3:\n",
        "        if resized_image.shape[0] == 224 and resized_image.shape[1] == 224 and resized_image.shape[2] == 3:    \n",
        "                    \n",
        "          array_images_train_binary.append(np.array(resized_image))\n",
        "          array_labels_train_binary.append(label_counter_train) \n",
        "\n",
        "      \n",
        "  label_counter_train_binary = label_counter_train_binary + 1 \n"
      ],
      "metadata": {
        "id": "bp70L9zbh-ax"
      },
      "execution_count": null,
      "outputs": []
    },
    {
      "cell_type": "code",
      "source": [
        "x_train_binary = np.array(array_images_train)\n",
        "y_train_binary = np.array(array_labels_train)\n",
        "\n",
        "from sklearn.model_selection import train_test_split\n",
        "X_train_binary, X_test_binary, Y_train_binary, Y_test_binary = train_test_split(x_train_binary, y_train_binary, test_size=0.2, random_state=1,stratify = y_train_binary)"
      ],
      "metadata": {
        "id": "-xDt0LIniHrc"
      },
      "execution_count": null,
      "outputs": []
    },
    {
      "cell_type": "markdown",
      "source": [
        "1o custom μοντέλο"
      ],
      "metadata": {
        "id": "XlRsqhrjscn0"
      }
    },
    {
      "cell_type": "code",
      "source": [
        "model = tensorflow.keras.Sequential() \n",
        "model.add(layers.Input(shape=x_train[0].shape))\n",
        "model.add(layers.Conv2D(3, (3,3), strides = (1,1), padding=\"same\", activation='relu'))\n",
        "model.add(layers.Conv2D(64, (3,3), strides = (1,1), padding=\"same\", activation='relu'))\n",
        "model.add(layers.BatchNormalization())\n",
        "model.add(layers.MaxPooling2D(pool_size=(2, 2),strides=2))\n",
        "model.add(layers.Dropout(0.2))\n",
        "\n",
        "model.add(layers.Conv2D(128, (3,3), strides = (1,1), padding=\"same\", activation='relu'))\n",
        "model.add(layers.Conv2D(128, (3,3), strides = (1,1), padding=\"same\", activation='relu'))\n",
        "model.add(layers.Conv2D(128, (3,3), strides = (1,1), padding=\"same\", activation='relu'))\n",
        "model.add(layers.MaxPooling2D(pool_size=(2, 2),strides=2))\n",
        "model.add(layers.Dropout(0.2))\n",
        "\n",
        "model.add(layers.Conv2D(256, (3,3), strides = (1,1), padding=\"same\", activation='relu'))\n",
        "model.add(layers.Conv2D(256, (3,3), strides = (1,1), padding=\"same\", activation='relu'))\n",
        "model.add(layers.Conv2D(256, (3,3), strides = (1,1), padding=\"same\", activation='relu'))\n",
        "model.add(layers.MaxPooling2D(pool_size=(2, 2),strides=2))\n",
        "model.add(layers.Dropout(0.2))\n",
        "\n",
        "model.add(layers.Conv2D(512, (3,3), strides = (1,1), padding=\"same\", activation='relu'))\n",
        "model.add(layers.Conv2D(512, (3,3), strides = (1,1), padding=\"same\", activation='relu'))\n",
        "model.add(layers.Conv2D(512, (3,3), strides = (1,1), padding=\"same\", activation='relu'))\n",
        "model.add(layers.Conv2D(512, (3,3), strides = (1,1), padding=\"same\", activation='relu'))\n",
        "model.add(layers.MaxPooling2D(pool_size=(2, 2),strides=2))\n",
        "model.add(layers.Dropout(0.2))\n",
        "\n",
        "model.add(layers.AveragePooling2D())\n",
        "model.add(layers.Flatten())\n",
        "model.add(layers.Dense(1, activation=\"sigmoid\"))\n",
        "model.summary()"
      ],
      "metadata": {
        "id": "eQK1TI5Aidjg"
      },
      "execution_count": null,
      "outputs": []
    },
    {
      "cell_type": "code",
      "source": [
        "X_train_bgap = X_train_binary.astype('float32') / 255.0\n",
        "X_test_bgap = X_test_binary.astype('float32') / 255.0"
      ],
      "metadata": {
        "id": "otbwhXy4jtVm"
      },
      "execution_count": null,
      "outputs": []
    },
    {
      "cell_type": "code",
      "execution_count": null,
      "metadata": {
        "id": "4GTRDeP8UQXV"
      },
      "outputs": [],
      "source": [
        "sgd = tensorflow.keras.optimizers.SGD(learning_rate= 0.001)\n",
        "adam = tensorflow.keras.optimizers.Adam(learning_rate = 0.00001)\n",
        "model.compile(optimizer=adam ,loss='binary_crossentropy', metrics=['accuracy'])\n",
        "model.fit(X_train_binary, Y_train_binary, batch_size=16, epochs=20)"
      ]
    },
    {
      "cell_type": "code",
      "execution_count": null,
      "metadata": {
        "id": "yW3GfqNvea33"
      },
      "outputs": [],
      "source": [
        "score = model.evaluate(X_test_bgap,Y_test)"
      ]
    },
    {
      "cell_type": "code",
      "source": [
        "model.save('/content/drive/My Drive/MRI Classification/Binary_GAP.h5')"
      ],
      "metadata": {
        "id": "2xagr6bNj__h"
      },
      "execution_count": null,
      "outputs": []
    },
    {
      "cell_type": "code",
      "source": [
        "bgap_model = tf.keras.models.load_model('/content/drive/My Drive/MRI Classification/Binary_GAP.h5')"
      ],
      "metadata": {
        "id": "0COG7deCj__o"
      },
      "execution_count": null,
      "outputs": []
    },
    {
      "cell_type": "code",
      "execution_count": null,
      "metadata": {
        "id": "FvWTYsEghKsZ"
      },
      "outputs": [],
      "source": [
        "y_pred = bgap_model.predict(X_test_binary)\n",
        "y_pred = (y_pred > 0.5)\n",
        "  \n",
        "cm = confusion_matrix(Y_test_binary, y_pred)\n",
        "\n",
        "print(cm)"
      ]
    },
    {
      "cell_type": "code",
      "execution_count": null,
      "metadata": {
        "id": "iElhM4cY9rP5"
      },
      "outputs": [],
      "source": [
        "accuracy = accuracy_score(rounded_predictions, rounded_labels)\n",
        "print('Accuracy: ' ,accuracy)\n",
        "precision = precision_score(rounded_predictions, rounded_labels, average = None)\n",
        "print('Precision: ' , precision)\n",
        "recall = recall_score(rounded_predictions, rounded_labels,average = None)\n",
        "print('Recall: ' ,recall)\n",
        "f1 = f1_score(rounded_predictions, rounded_labels,average = None)\n",
        "print('F1 score: ',f1)"
      ]
    },
    {
      "cell_type": "markdown",
      "source": [
        "2o custom μοντέλο "
      ],
      "metadata": {
        "id": "WLLtDbZ8sXWZ"
      }
    },
    {
      "cell_type": "code",
      "execution_count": null,
      "metadata": {
        "id": "GlYGgAfAqqSr"
      },
      "outputs": [],
      "source": [
        "X_train_b_nogap = X_train_binary.astype('float32') / 255.0"
      ]
    },
    {
      "cell_type": "code",
      "execution_count": null,
      "metadata": {
        "id": "YWoPHkLKq0wA"
      },
      "outputs": [],
      "source": [
        "X_test_b_nogap = X_test_binary.astype('float32') / 255.0"
      ]
    },
    {
      "cell_type": "code",
      "source": [
        "model = tensorflow.keras.Sequential() \n",
        "model.add(layers.Input(shape=x_train[0].shape))\n",
        "model.add(layers.Conv2D(3, (3,3), strides = (1,1), padding=\"same\", activation='relu'))\n",
        "model.add(layers.Conv2D(64, (3,3), strides = (1,1), padding=\"same\", activation='relu'))\n",
        "model.add(layers.Conv2D(64, (1,1), strides = (1,1), padding=\"same\", activation='relu'))\n",
        "model.add(layers.BatchNormalization())\n",
        "model.add(layers.MaxPooling2D(pool_size=(2, 2),strides=2))\n",
        "\n",
        "model.add(layers.Conv2D(128, (3,3), strides = (1,1), padding=\"same\", activation='relu'))\n",
        "model.add(layers.Conv2D(128, (3,3), strides = (1,1), padding=\"same\", activation='relu'))\n",
        "model.add(layers.Conv2D(64, (1,1), strides = (1,1), padding=\"same\", activation='relu'))\n",
        "model.add(layers.BatchNormalization())\n",
        "model.add(layers.MaxPooling2D(pool_size=(2, 2),strides=2))\n",
        "model.add(layers.Dropout(0.2))\n",
        "\n",
        "\n",
        "model.add(layers.Conv2D(256, (3,3), strides = (1,1), padding=\"same\", activation='relu'))\n",
        "model.add(layers.Conv2D(256, (3,3), strides = (1,1), padding=\"same\", activation='relu'))\n",
        "model.add(layers.Conv2D(64, (1,1), strides = (1,1), padding=\"same\", activation='relu'))\n",
        "model.add(layers.BatchNormalization())\n",
        "model.add(layers.MaxPooling2D(pool_size=(2, 2),strides=2))\n",
        "\n",
        "\n",
        "model.add(layers.Conv2D(512, (3,3), strides = (1,1), padding=\"same\", activation='relu'))\n",
        "model.add(layers.Conv2D(512, (3,3), strides = (1,1), padding=\"same\", activation='relu'))\n",
        "model.add(layers.Conv2D(64, (1,1), strides = (1,1), padding=\"same\", activation='relu'))\n",
        "model.add(layers.BatchNormalization())\n",
        "model.add(layers.MaxPooling2D(pool_size=(2, 2),strides=2))\n",
        "model.add(layers.Dropout(0.2))\n",
        "\n",
        "model.add(layers.Flatten())\n",
        "model.add(layers.Dense(4096 , activation='relu'))\n",
        "model.add(layers.Dense(1, activation='sigmoid'))\n",
        "model.summary()"
      ],
      "metadata": {
        "id": "WDGLsiLsVErZ"
      },
      "execution_count": null,
      "outputs": []
    },
    {
      "cell_type": "code",
      "execution_count": null,
      "metadata": {
        "id": "ZUAD-2M-sV91"
      },
      "outputs": [],
      "source": [
        "sgd = tensorflow.keras.optimizers.SGD(learning_rate= 0.001)\n",
        "adam = tensorflow.keras.optimizers.Adam(learning_rate = 0.00001)\n",
        "model.compile(optimizer=adam ,loss='binary_crossentropy', metrics=['accuracy'])\n",
        "model.fit(X_train_b_nogap, Y_train, batch_size=32, epochs=8)"
      ]
    },
    {
      "cell_type": "code",
      "source": [
        "model.save('/content/drive/My Drive/MRI Classification/Binary_Νο_GAP.h5')\n"
      ],
      "metadata": {
        "id": "JNzQNJbytBfs"
      },
      "execution_count": null,
      "outputs": []
    },
    {
      "cell_type": "code",
      "source": [
        "no_gap_model_binary = tf.keras.models.load_model('/content/drive/My Drive/MRI Classification/Binary_Νο_GAP.h5')\n"
      ],
      "metadata": {
        "id": "zr-lkDIWtB71"
      },
      "execution_count": null,
      "outputs": []
    },
    {
      "cell_type": "code",
      "execution_count": null,
      "metadata": {
        "id": "PECigAlYsV95"
      },
      "outputs": [],
      "source": [
        "score = no_gap_model_binary.evaluate(X_test_b_nogap,Y_test)"
      ]
    },
    {
      "cell_type": "code",
      "execution_count": null,
      "metadata": {
        "id": "ZyKy-JM4sV99"
      },
      "outputs": [],
      "source": [
        "y_pred = no_gap_model_binary.predict(X_test_b_nogap)\n",
        "y_pred = (y_pred[:,0] > 0.5)\n",
        "    \n",
        "cm = confusion_matrix(Y_test, y_pred)\n",
        "\n",
        "print(cm)"
      ]
    },
    {
      "cell_type": "markdown",
      "source": [
        "EfficientNetB0\n"
      ],
      "metadata": {
        "id": "aR_tE0mGg0s1"
      }
    },
    {
      "cell_type": "code",
      "source": [
        "\n",
        "efficientnet = EfficientNetB0(weights='imagenet',include_top=False,input_shape= (224,224,3))\n",
        "\n",
        "x = layers.Flatten()(efficientnet.output)\n",
        "\n",
        "x = layers.Dense(units=512,activation=\"relu\")(x)\n",
        "\n",
        "x = layers.Dense(units=1,name = \"dense_final\")(x)\n",
        "x = layers.Activation(\"sigmoid\")(x)\n",
        "\n",
        "model = tf.keras.Model(efficientnet.input, [x])"
      ],
      "metadata": {
        "id": "VCowkPzSpMjv"
      },
      "execution_count": null,
      "outputs": []
    },
    {
      "cell_type": "code",
      "source": [
        "sgd = tensorflow.keras.optimizers.SGD(learning_rate= 0.001)\n",
        "adam = tensorflow.keras.optimizers.Adam(learning_rate = 0.0001)\n",
        "model.compile(optimizer=adam ,loss='binary_crossentropy', metrics=['accuracy'])\n",
        "model.fit(X_train_binary, Y_train_binary, batch_size=16, epochs=5)"
      ],
      "metadata": {
        "id": "LGTUgXndp18o"
      },
      "execution_count": null,
      "outputs": []
    },
    {
      "cell_type": "code",
      "source": [
        "model.save('/content/drive/My Drive/MRI Classification/Binary_EfficientNetB0.h5')"
      ],
      "metadata": {
        "id": "e8Nf_hcXp75m"
      },
      "execution_count": null,
      "outputs": []
    },
    {
      "cell_type": "code",
      "source": [
        "b_eff_model = tf.keras.models.load_model('/content/drive/My Drive/MRI Classification/Binary_EfficientNetB0.h5')"
      ],
      "metadata": {
        "id": "MwBSBW13p7xq"
      },
      "execution_count": null,
      "outputs": []
    },
    {
      "cell_type": "code",
      "source": [
        "score = b_eff_model.evaluate(X_test_binary,Y_test)"
      ],
      "metadata": {
        "id": "zPkisFLap-QR"
      },
      "execution_count": null,
      "outputs": []
    },
    {
      "cell_type": "code",
      "source": [
        "y_pred = b_eff_model.predict(X_test_binary)\n",
        "y_pred = (y_pred > 0.5)\n",
        "    \n",
        "cm = confusion_matrix(Y_test_binary, y_pred)\n",
        "\n",
        "print(cm)"
      ],
      "metadata": {
        "id": "2EJ8QKRRqOgD"
      },
      "execution_count": null,
      "outputs": []
    },
    {
      "cell_type": "markdown",
      "source": [
        "Δεύτερο βοηθητικό μοντέλο"
      ],
      "metadata": {
        "id": "aajv1dmErKdl"
      }
    },
    {
      "cell_type": "code",
      "source": [
        "y = b_eff_model.get_layer('dense_final').output\n",
        "y = tf.math.scalar_mul(0.2, y)\n",
        "y = layers.Activation(\"sigmoid\")(y)\n",
        "\n",
        "b_eff_y_model = Model(inputs=b_eff_model.input, outputs=y)"
      ],
      "metadata": {
        "id": "L_VWuUe7qBIb"
      },
      "execution_count": null,
      "outputs": []
    }
  ]
}